{
  "nbformat": 4,
  "nbformat_minor": 0,
  "metadata": {
    "colab": {
      "provenance": [],
      "gpuType": "T4",
      "mount_file_id": "1qP-uQZiisSz_LmhK8Rf4Bmd5gIkAj3JM",
      "authorship_tag": "ABX9TyOKOkJBK/wRcIt2ObPhqpB+",
      "include_colab_link": true
    },
    "kernelspec": {
      "name": "python3",
      "display_name": "Python 3"
    },
    "language_info": {
      "name": "python"
    },
    "accelerator": "GPU"
  },
  "cells": [
    {
      "cell_type": "markdown",
      "metadata": {
        "id": "view-in-github",
        "colab_type": "text"
      },
      "source": [
        "<a href=\"https://colab.research.google.com/github/AshishRaj04/makemore/blob/main/makemore_part3.ipynb\" target=\"_parent\"><img src=\"https://colab.research.google.com/assets/colab-badge.svg\" alt=\"Open In Colab\"/></a>"
      ]
    },
    {
      "cell_type": "code",
      "execution_count": 22,
      "metadata": {
        "id": "_4Fjo1L0JaX4"
      },
      "outputs": [],
      "source": [
        "data_path = \"/content/drive/MyDrive/Projects/ building makemore part 1/anime_names.txt\""
      ]
    },
    {
      "cell_type": "markdown",
      "source": [
        "Importing modules"
      ],
      "metadata": {
        "id": "SeLfzT0zykcf"
      }
    },
    {
      "cell_type": "code",
      "source": [
        "import tensorflow as tf\n",
        "import matplotlib.pyplot as plt\n",
        "import numpy as np\n",
        "import random\n",
        "%matplotlib inline"
      ],
      "metadata": {
        "id": "6toMDVgoS9Ga"
      },
      "execution_count": 23,
      "outputs": []
    },
    {
      "cell_type": "markdown",
      "source": [
        "Reading anima names in names list"
      ],
      "metadata": {
        "id": "TR_OWSsIyraB"
      }
    },
    {
      "cell_type": "code",
      "source": [
        "with open(data_path, \"r\") as f:\n",
        "  names = f.read().splitlines()"
      ],
      "metadata": {
        "id": "d-HVV8DlTNI_"
      },
      "execution_count": 24,
      "outputs": []
    },
    {
      "cell_type": "code",
      "source": [
        "len(names)"
      ],
      "metadata": {
        "colab": {
          "base_uri": "https://localhost:8080/"
        },
        "id": "irXzynwwTfOa",
        "outputId": "26d47f86-aaea-41df-cae6-b36ed10d4217"
      },
      "execution_count": 25,
      "outputs": [
        {
          "output_type": "execute_result",
          "data": {
            "text/plain": [
              "72776"
            ]
          },
          "metadata": {},
          "execution_count": 25
        }
      ]
    },
    {
      "cell_type": "code",
      "source": [
        "print(names[ : 20])"
      ],
      "metadata": {
        "colab": {
          "base_uri": "https://localhost:8080/"
        },
        "id": "1QUmpuuIW4Wc",
        "outputId": "f0072649-8999-45c4-aef5-0fdb38ec1f94"
      },
      "execution_count": 26,
      "outputs": [
        {
          "output_type": "stream",
          "name": "stdout",
          "text": [
            "['Pie_a_La_Mode', 'Celica_A_Mercury', 'Konoe_A_Mercury', 'Priapus_A_Tarou', 'Faalala_Aa_Larm', 'Torry_Aaes', 'Angel_Aaltonen', 'Diana_Aaman', 'Itsue_Aasu', 'Futaba_Aasu', 'Hitomi_Aasu', 'Nanase_Aasu', 'Mitsuki_Aasu', 'Mutsumi_Aasu', 'Shii_Aasu', 'Lashara_Aasu_XXVIII', 'Kim_Aba', 'Iouri_Abalkin', 'Renji_Abarai', 'Ichika_Abarai']\n"
          ]
        }
      ]
    },
    {
      "cell_type": "code",
      "source": [
        "chars = sorted(list(set(\"\".join(names))))"
      ],
      "metadata": {
        "id": "OOGefXDcTiLc"
      },
      "execution_count": 27,
      "outputs": []
    },
    {
      "cell_type": "markdown",
      "source": [
        "There are total of 66 characters"
      ],
      "metadata": {
        "id": "Pf22fyGBy0z5"
      }
    },
    {
      "cell_type": "code",
      "source": [
        "len(chars)"
      ],
      "metadata": {
        "colab": {
          "base_uri": "https://localhost:8080/"
        },
        "id": "wcRbMSAjTy2N",
        "outputId": "ead41a8c-193d-4747-917a-69f1b1945ce8"
      },
      "execution_count": 28,
      "outputs": [
        {
          "output_type": "execute_result",
          "data": {
            "text/plain": [
              "66"
            ]
          },
          "metadata": {},
          "execution_count": 28
        }
      ]
    },
    {
      "cell_type": "markdown",
      "source": [
        "Creating a dict of characters having index to character mapping"
      ],
      "metadata": {
        "id": "Z7Y1iZp8y4hD"
      }
    },
    {
      "cell_type": "code",
      "source": [
        "str_to_idx = {ch : i+1 for i , ch in enumerate(chars)}\n",
        "str_to_idx[\".\"] = 0\n",
        "idx_to_str = {i : ch for ch , i in str_to_idx.items()}\n",
        "print(idx_to_str)"
      ],
      "metadata": {
        "colab": {
          "base_uri": "https://localhost:8080/"
        },
        "id": "eGCdVhbbT_QC",
        "outputId": "83d53aab-8abe-4695-f071-a9fee27f23bd"
      },
      "execution_count": 29,
      "outputs": [
        {
          "output_type": "stream",
          "name": "stdout",
          "text": [
            "{1: '#', 2: '-', 3: '0', 4: '1', 5: '2', 6: '3', 7: '4', 8: '5', 9: '6', 10: '7', 11: '8', 12: '9', 13: '?', 14: 'A', 15: 'B', 16: 'C', 17: 'D', 18: 'E', 19: 'F', 20: 'G', 21: 'H', 22: 'I', 23: 'J', 24: 'K', 25: 'L', 26: 'M', 27: 'N', 28: 'O', 29: 'P', 30: 'Q', 31: 'R', 32: 'S', 33: 'T', 34: 'U', 35: 'V', 36: 'W', 37: 'X', 38: 'Y', 39: 'Z', 40: '_', 41: 'a', 42: 'b', 43: 'c', 44: 'd', 45: 'e', 46: 'f', 47: 'g', 48: 'h', 49: 'i', 50: 'j', 51: 'k', 52: 'l', 53: 'm', 54: 'n', 55: 'o', 56: 'p', 57: 'q', 58: 'r', 59: 's', 60: 't', 61: 'u', 62: 'v', 63: 'w', 64: 'x', 65: 'y', 66: 'z', 0: '.'}\n"
          ]
        }
      ]
    },
    {
      "cell_type": "markdown",
      "source": [
        "- Using context length of 8\n",
        "- Using only 30k names for traning due to insufficient RAM.\n",
        "- X , Y tensors are data"
      ],
      "metadata": {
        "id": "rGrlm5qbzCnD"
      }
    },
    {
      "cell_type": "code",
      "source": [
        "context_len = 8\n",
        "def build_dataset(names):\n",
        "  X , Y = [] , []\n",
        "\n",
        "  for name in names:\n",
        "    context = [0] * context_len\n",
        "    for ch in name + \".\":\n",
        "      ix = str_to_idx[ch]\n",
        "      X.append(context)\n",
        "      Y.append(ix)\n",
        "      context = context[1:] + [ix]\n",
        "\n",
        "  X = tf.convert_to_tensor(X)\n",
        "  Y = tf.convert_to_tensor(Y)\n",
        "  print(X.shape , Y.shape)\n",
        "  return X , Y"
      ],
      "metadata": {
        "id": "SlBALHcFUXpr"
      },
      "execution_count": 30,
      "outputs": []
    },
    {
      "cell_type": "markdown",
      "source": [
        "Spliting the data into traning , validation an test data"
      ],
      "metadata": {
        "id": "f-N606UmzSAM"
      }
    },
    {
      "cell_type": "code",
      "source": [
        "random.seed(42)\n",
        "random.shuffle(names)\n",
        "n1 = int(0.8 * len(names))\n",
        "n2 = int(0.9 * len(names))\n",
        "\n",
        "Xtr , Ytr = build_dataset(names[:n1])\n",
        "Xdev , Ydev = build_dataset(names[n1:n2])\n",
        "Xte , Yte = build_dataset(names[n2:])"
      ],
      "metadata": {
        "colab": {
          "base_uri": "https://localhost:8080/"
        },
        "id": "YM4uf7oqYAnV",
        "outputId": "4c8bbbce-ea21-43aa-9442-56f80dec4d1b"
      },
      "execution_count": 31,
      "outputs": [
        {
          "output_type": "stream",
          "name": "stdout",
          "text": [
            "(833654, 8) (833654,)\n",
            "(104753, 8) (104753,)\n",
            "(104419, 8) (104419,)\n"
          ]
        }
      ]
    },
    {
      "cell_type": "markdown",
      "source": [
        "## Multilayer Perceptron\n",
        "\n",
        "- **67 chars to predict**"
      ],
      "metadata": {
        "id": "7MsxXKOhvOgG"
      }
    },
    {
      "cell_type": "markdown",
      "source": [
        "Hyperparameters"
      ],
      "metadata": {
        "id": "2DVPCQLIz0qx"
      }
    },
    {
      "cell_type": "code",
      "source": [
        "n_emb = 50\n",
        "n_neurons_l1 = 400\n",
        "n_neurons_l2 = 300\n",
        "n_neurons_l3 = 150\n",
        "n_neurons = n_neurons_l1 + n_neurons_l2 + n_neurons_l3\n",
        "vocab_size = len(idx_to_str) # 67\n",
        "context_len = 8\n",
        "# n_emb(50) * context_len(8) = 400"
      ],
      "metadata": {
        "id": "F8pmcP9VxPHT"
      },
      "execution_count": 71,
      "outputs": []
    },
    {
      "cell_type": "markdown",
      "source": [
        "Trainable parameters"
      ],
      "metadata": {
        "id": "WvYTvZFKzw3x"
      }
    },
    {
      "cell_type": "code",
      "source": [
        "seed = tf.random.set_seed(424242424)\n",
        "initializer = tf.keras.initializers.HeNormal(seed=seed)\n",
        "\n",
        "C = tf.Variable(tf.random.uniform(shape=(vocab_size , n_emb) , seed = seed))\n",
        "\n",
        "W1 = tf.Variable(initializer(shape=(n_emb*context_len , n_neurons_l1)))\n",
        "b1 = tf.Variable(tf.random.uniform(shape=[n_neurons_l1]))\n",
        "\n",
        "W2 = tf.Variable(initializer(shape=(n_neurons_l1 , n_neurons_l2)))\n",
        "b2 = tf.Variable(tf.random.uniform(shape = [n_neurons_l2]))\n",
        "\n",
        "W3 = tf.Variable(initializer(shape=(n_neurons_l2 , n_neurons_l3)))\n",
        "b3 = tf.Variable(tf.random.uniform(shape = [n_neurons_l3]))\n",
        "\n",
        "W4 = tf.Variable(initializer(shape=(n_neurons_l3 , vocab_size)))\n",
        "b4 = tf.Variable(tf.random.uniform(shape = [vocab_size]))\n"
      ],
      "metadata": {
        "id": "98J6ZFJ0Ylv0"
      },
      "execution_count": 72,
      "outputs": []
    },
    {
      "cell_type": "markdown",
      "source": [
        "Loss function - categorical cross-entropy"
      ],
      "metadata": {
        "id": "3MWnKJ_cz345"
      }
    },
    {
      "cell_type": "code",
      "source": [
        "loss_fn = tf.keras.losses.SparseCategoricalCrossentropy(from_logits=True)"
      ],
      "metadata": {
        "id": "y_DAfTba74lH"
      },
      "execution_count": 73,
      "outputs": []
    },
    {
      "cell_type": "markdown",
      "source": [
        "**0.33M PARAMETER DNN-MODEL**"
      ],
      "metadata": {
        "id": "L91ExpvN0CFD"
      }
    },
    {
      "cell_type": "code",
      "source": [
        "parameters = [C , W1 , b1 , W2 , b2 , W3 , b3 , W4 , b4]\n",
        "no_params = 0\n",
        "for p in parameters:\n",
        "  no_params += tf.size(p).numpy()\n",
        "\n",
        "print('Total number of parameters: ', no_params.item())"
      ],
      "metadata": {
        "colab": {
          "base_uri": "https://localhost:8080/"
        },
        "id": "jpnPmAlyzCm6",
        "outputId": "4a0bc1d5-950c-42a3-9f75-6e0fc683f583"
      },
      "execution_count": 74,
      "outputs": [
        {
          "output_type": "stream",
          "name": "stdout",
          "text": [
            "Total number of parameters:  339317\n"
          ]
        }
      ]
    },
    {
      "cell_type": "markdown",
      "source": [
        "- Initially we want each character to have equal probability i.e; 1/67 .\n",
        "- -tf.math.log(1/67) = 4.20\n",
        "- We got 5.4186 on first epoch . So we have initiallized our weights well.\n",
        "- Also using tanh in such a large dnn might led to saturation of many of the neurons .\n",
        "- Hence we are using gelu. It might me computationally expensive."
      ],
      "metadata": {
        "id": "ZKHgzB23r7hI"
      }
    },
    {
      "cell_type": "markdown",
      "source": [
        "Traning loop of 500 epochs"
      ],
      "metadata": {
        "id": "UP7_jn_f0Ua4"
      }
    },
    {
      "cell_type": "code",
      "source": [
        "num_epochs = 1000\n",
        "learning_rate = 0.01\n",
        "losses = []\n",
        "batch_size = 64\n",
        "# Instantiate the Adam optimizer\n",
        "optimizer = tf.keras.optimizers.Adam(learning_rate=learning_rate)\n",
        "\n",
        "for epoch in range(num_epochs):\n",
        "    ix = tf.keras.random.randint(shape = (batch_size,) , minval=0 , maxval=Xtr.shape[0] , seed = seed)\n",
        "    Xb, Yb = tf.gather(Xtr , ix) , tf.gather(Ytr , ix) # batch X,Y\n",
        "    with tf.GradientTape() as tape:\n",
        "        # Forward pass:\n",
        "        emb = tf.gather(C,Xb) # [batch, block_size, embedding_dim]\n",
        "        h1 = tf.keras.activations.gelu((tf.reshape(emb , shape=(-1 , n_emb*context_len)) @ W1) + b1)\n",
        "        h2 = tf.keras.activations.gelu(h1 @ W2 + b2)\n",
        "        h3 = tf.keras.activations.gelu(h2 @ W3 + b3)\n",
        "        logits = h3 @ W4 + b4\n",
        "        loss = loss_fn(tf.reshape(Yb, [-1]), logits)\n",
        "\n",
        "\n",
        "    # Compute the gradients with respect to parameters\n",
        "    grads = tape.gradient(loss, parameters)\n",
        "\n",
        "    # Update parameters using the Adam optimizer\n",
        "    optimizer.apply_gradients(zip(grads, parameters))\n",
        "\n",
        "    losses.append(loss.numpy())\n",
        "\n",
        "    if epoch % 25 == 0:\n",
        "      print(f\"epoch={epoch}, loss={loss.numpy():.4f}\")"
      ],
      "metadata": {
        "colab": {
          "base_uri": "https://localhost:8080/"
        },
        "id": "2kTVU2d1zwwH",
        "outputId": "01e17a3e-9550-4f92-9f0a-2f3058a655ef"
      },
      "execution_count": 75,
      "outputs": [
        {
          "output_type": "stream",
          "name": "stdout",
          "text": [
            "epoch=0, loss=6.4683\n",
            "epoch=25, loss=3.4061\n",
            "epoch=50, loss=2.8411\n",
            "epoch=75, loss=2.6429\n",
            "epoch=100, loss=2.4123\n",
            "epoch=125, loss=2.2609\n",
            "epoch=150, loss=2.6895\n",
            "epoch=175, loss=2.3543\n",
            "epoch=200, loss=2.3801\n",
            "epoch=225, loss=2.3919\n",
            "epoch=250, loss=2.2276\n",
            "epoch=275, loss=2.5337\n",
            "epoch=300, loss=2.3290\n",
            "epoch=325, loss=2.1623\n",
            "epoch=350, loss=2.2431\n",
            "epoch=375, loss=2.0475\n",
            "epoch=400, loss=2.3505\n",
            "epoch=425, loss=2.1694\n",
            "epoch=450, loss=2.0128\n",
            "epoch=475, loss=2.3449\n",
            "epoch=500, loss=1.8389\n",
            "epoch=525, loss=2.1830\n",
            "epoch=550, loss=2.2932\n",
            "epoch=575, loss=2.1328\n",
            "epoch=600, loss=2.1774\n",
            "epoch=625, loss=2.1629\n",
            "epoch=650, loss=2.1656\n",
            "epoch=675, loss=2.4331\n",
            "epoch=700, loss=1.7871\n",
            "epoch=725, loss=2.3084\n",
            "epoch=750, loss=2.2707\n",
            "epoch=775, loss=2.2972\n",
            "epoch=800, loss=2.3150\n",
            "epoch=825, loss=2.3301\n",
            "epoch=850, loss=2.3416\n",
            "epoch=875, loss=2.5599\n",
            "epoch=900, loss=2.2105\n",
            "epoch=925, loss=2.1314\n",
            "epoch=950, loss=2.5124\n",
            "epoch=975, loss=2.0355\n"
          ]
        }
      ]
    },
    {
      "cell_type": "code",
      "source": [
        "plt.plot(losses)\n",
        "plt.title('Loss vs. Epoch', fontsize=16)\n",
        "plt.grid(True)\n",
        "plt.show()"
      ],
      "metadata": {
        "colab": {
          "base_uri": "https://localhost:8080/",
          "height": 454
        },
        "id": "lqcxMlg8BKzM",
        "outputId": "741bad12-54e2-49f9-e790-f4279ae11cbe"
      },
      "execution_count": 76,
      "outputs": [
        {
          "output_type": "display_data",
          "data": {
            "text/plain": [
              "<Figure size 640x480 with 1 Axes>"
            ],
            "image/png": "[encoded data removed]"
          },
          "metadata": {}
        }
      ]
    },
    {
      "cell_type": "markdown",
      "source": [
        "Traning loss"
      ],
      "metadata": {
        "id": "ZbJl-L8D1CWe"
      }
    },
    {
      "cell_type": "code",
      "source": [
        "print(\"Traning loss: \",losses[-1].item())"
      ],
      "metadata": {
        "colab": {
          "base_uri": "https://localhost:8080/"
        },
        "id": "E9BSPSjrE4LY",
        "outputId": "5606c107-2f35-4560-dcde-bf2d2d11e580"
      },
      "execution_count": 77,
      "outputs": [
        {
          "output_type": "stream",
          "name": "stdout",
          "text": [
            "Traning loss:  2.0533437728881836\n"
          ]
        }
      ]
    },
    {
      "cell_type": "markdown",
      "source": [
        "Validation loss"
      ],
      "metadata": {
        "id": "_tJswovN1DX3"
      }
    },
    {
      "cell_type": "code",
      "source": [
        "emb = tf.gather(C,Xdev) # [batch, block_size, embedding_dim]\n",
        "h1 = tf.keras.activations.gelu((tf.reshape(emb , shape=(-1 , n_emb*context_len)) @ W1) + b1)\n",
        "h2 = tf.keras.activations.gelu(h1 @ W2 + b2)\n",
        "h3 = tf.keras.activations.gelu(h2 @ W3 + b3)\n",
        "logits = h3 @ W4 + b4\n",
        "loss = loss_fn(tf.reshape(Ydev, [-1]), logits)\n",
        "print(\"Validation loss: \",loss.numpy().item())"
      ],
      "metadata": {
        "colab": {
          "base_uri": "https://localhost:8080/"
        },
        "id": "44S6riWLEppE",
        "outputId": "cd549d49-59fb-416d-a5a3-f2f40f9a64cb"
      },
      "execution_count": 78,
      "outputs": [
        {
          "output_type": "stream",
          "name": "stdout",
          "text": [
            "Validation loss:  2.1357202529907227\n"
          ]
        }
      ]
    },
    {
      "cell_type": "markdown",
      "source": [
        "Sampling newly generated names"
      ],
      "metadata": {
        "id": "Ft2yHJTQ1IxH"
      }
    },
    {
      "cell_type": "code",
      "source": [
        "block_size = 8\n",
        "for _ in range(20):\n",
        "\n",
        "    out = []\n",
        "    context = [0] * block_size # initialize with all ...\n",
        "    while True:\n",
        "      emb = tf.gather(C , tf.constant([context] , dtype=tf.int32)) # (1,block_size,d)\n",
        "      emb_flat = tf.reshape(emb, [1, -1])\n",
        "      h1 = tf.keras.activations.gelu(tf.matmul(emb_flat, W1) + b1)\n",
        "      h2 = tf.keras.activations.gelu(tf.matmul(h1, W2) + b2)\n",
        "      h3 = tf.keras.activations.gelu(tf.matmul(h2, W3) + b3)\n",
        "      logits = tf.matmul(h3, W4) + b4 # (B,block_size,vocab_size)\n",
        "      probs = tf.nn.softmax(logits, axis=1)\n",
        "      ix = tf.random.categorical(tf.math.log(probs), num_samples=1)[0, 0].numpy()\n",
        "      context = context[1:] + [ix]\n",
        "      out.append(ix)\n",
        "      if ix == 0:\n",
        "        break\n",
        "\n",
        "    print(''.join(idx_to_str[i] for i in out))"
      ],
      "metadata": {
        "colab": {
          "base_uri": "https://localhost:8080/"
        },
        "id": "etVMLugJBQ6a",
        "outputId": "f9967cfc-b23f-4469-ce12-dc0d298091c3"
      },
      "execution_count": 79,
      "outputs": [
        {
          "output_type": "stream",
          "name": "stdout",
          "text": [
            "Mathiro_Tohugi.\n",
            "Ring_Satsutou_Makiki.\n",
            "Kyuugi_Hihukazuji.\n",
            "Keioro_Kaiki.\n",
            "Ctetar_Munki.\n",
            "Nat_Sukougika.\n",
            "Kizuki_Gito.\n",
            "Miitgi_Yuchi.\n",
            "Mamo_Delan.\n",
            "Piogamare.\n",
            "Sakami_Homishige_Afalere.\n",
            "Ji.\n",
            "He_Haanami.\n",
            "Ikie_Touzuwa.\n",
            "Cessa_Hiddou.\n",
            "Chau_Yuukumasaki.\n",
            "Purnga.\n",
            "Ranchi_Abela.\n",
            "Kagisaki.\n",
            "Auio_Gikika.\n"
          ]
        }
      ]
    },
    {
      "cell_type": "markdown",
      "source": [
        "Saving the trained weights"
      ],
      "metadata": {
        "id": "KBxg2zAOyTrc"
      }
    },
    {
      "cell_type": "code",
      "source": [
        "checkpoint = tf.train.Checkpoint(\n",
        "    C = C , W1 = W1 , b1 = b1 , W2 = W2 , b2 = b2 , W3 = W3 , b3 = b3 , W4 = W4 , b4 = b4\n",
        ")\n",
        "\n",
        "save_path = checkpoint.save(\"./checkpoints/anime_model\")\n",
        "print(f\"Model saved at: {save_path}\")"
      ],
      "metadata": {
        "colab": {
          "base_uri": "https://localhost:8080/"
        },
        "id": "xVvxfn_Twwyx",
        "outputId": "bd1798cb-547d-41c2-85a7-50ef4f9039cd"
      },
      "execution_count": 80,
      "outputs": [
        {
          "output_type": "stream",
          "name": "stdout",
          "text": [
            "Model saved at: ./checkpoints/anime_model-1\n"
          ]
        }
      ]
    },
    {
      "cell_type": "markdown",
      "source": [
        "For restoring the saved weights"
      ],
      "metadata": {
        "id": "q5fis4c6yKtk"
      }
    },
    {
      "cell_type": "code",
      "source": [
        "# checkpoint = tf.train.Checkpoint(\n",
        "#     C=C, W1=W1, b1=b1, W2=W2, b2=b2, W3=W3, b3=b3\n",
        "# )\n",
        "\n",
        "# checkpoint.restore(tf.train.latest_checkpoint(\"./checkpoints\")).expect_partial()\n",
        "# print(\"Model restored from latest checkpoint!\")"
      ],
      "metadata": {
        "id": "txu3krQ5xxip"
      },
      "execution_count": null,
      "outputs": []
    },
    {
      "cell_type": "markdown",
      "source": [
        "### Batch Normalization"
      ],
      "metadata": {
        "id": "ODdyc0_9X1j6"
      }
    },
    {
      "cell_type": "code",
      "source": [
        "tf.keras.backend.clear_session()"
      ],
      "metadata": {
        "id": "jcfy4u3IVLfL"
      },
      "execution_count": 81,
      "outputs": []
    },
    {
      "cell_type": "code",
      "source": [
        "momentum = 0.99"
      ],
      "metadata": {
        "id": "R6E2zYJyad8L"
      },
      "execution_count": 82,
      "outputs": []
    },
    {
      "cell_type": "code",
      "source": [
        "gamma_1 = tf.Variable(tf.ones(shape=(n_neurons_l1,)))\n",
        "beta_1 = tf.Variable(tf.zeros(shape=(n_neurons_l1,)))\n",
        "\n",
        "gamma_2 = tf.Variable(tf.ones(shape=(n_neurons_l2,)))\n",
        "beta_2 = tf.Variable(tf.zeros(shape=(n_neurons_l2,)))\n",
        "\n",
        "gamma_3 = tf.Variable(tf.ones(shape=(n_neurons_l3,)))\n",
        "beta_3 = tf.Variable(tf.zeros(shape=(n_neurons_l3,)))"
      ],
      "metadata": {
        "id": "AaoE7R_YJ527"
      },
      "execution_count": 83,
      "outputs": []
    },
    {
      "cell_type": "code",
      "source": [
        "# BatchNorm1\n",
        "running_mean_01 = tf.Variable(tf.zeros([1, n_neurons_l1]), trainable=False)\n",
        "running_std_01 = tf.Variable(tf.ones([1, n_neurons_l1]), trainable=False)\n",
        "\n",
        "# BatchNorm2\n",
        "running_mean_02 = tf.Variable(tf.zeros([1, n_neurons_l2]), trainable=False)\n",
        "running_std_02 = tf.Variable(tf.ones([1, n_neurons_l2]), trainable=False)\n",
        "\n",
        "#BatchNorm3\n",
        "running_mean_03 = tf.Variable(tf.zeros([1, n_neurons_l3]), trainable=False)\n",
        "running_std_03 = tf.Variable(tf.ones([1, n_neurons_l3]), trainable=False)"
      ],
      "metadata": {
        "id": "mF3VQA1yYiVg"
      },
      "execution_count": 84,
      "outputs": []
    },
    {
      "cell_type": "code",
      "source": [
        "seed = tf.random.set_seed(424242424)\n",
        "initializer = tf.keras.initializers.HeNormal(seed=seed)\n",
        "\n",
        "C = tf.Variable(tf.random.uniform(shape=(vocab_size , n_emb) , seed = seed))\n",
        "\n",
        "W1 = tf.Variable(initializer(shape=(n_emb*context_len , n_neurons_l1)))\n",
        "b1 = tf.Variable(tf.random.uniform(shape=[n_neurons_l1]))\n",
        "\n",
        "W2 = tf.Variable(initializer(shape=(n_neurons_l1 , n_neurons_l2)))\n",
        "b2 = tf.Variable(tf.random.uniform(shape = [n_neurons_l2]))\n",
        "\n",
        "W3 = tf.Variable(initializer(shape=(n_neurons_l2 , n_neurons_l3)))\n",
        "b3 = tf.Variable(tf.random.uniform(shape = [n_neurons_l3]))\n",
        "\n",
        "W4 = tf.Variable(initializer(shape=(n_neurons_l3 , vocab_size)))\n",
        "b4 = tf.Variable(tf.random.uniform(shape = [vocab_size]))\n"
      ],
      "metadata": {
        "id": "l9NqQ1d9Yexc"
      },
      "execution_count": 85,
      "outputs": []
    },
    {
      "cell_type": "markdown",
      "source": [
        "**0.34M PARAMETERS DNN MODEL WITH BATCH NORM**"
      ],
      "metadata": {
        "id": "5rRhLlOsafj9"
      }
    },
    {
      "cell_type": "code",
      "source": [
        "parameters = [C , W1 , b1 , W2 , b2 , W3 , b3 , W4 , b4 , gamma_1 , beta_1 , gamma_2 , beta_2 , gamma_3 , beta_3]\n",
        "no_params = 0\n",
        "for p in parameters:\n",
        "  no_params += tf.size(p).numpy()\n",
        "\n",
        "print('Total number of parameters: ', no_params.item())"
      ],
      "metadata": {
        "colab": {
          "base_uri": "https://localhost:8080/"
        },
        "id": "ODB_ZDI4YWMd",
        "outputId": "7b45c65e-771a-4a8a-f75c-f3c725ed8ba3"
      },
      "execution_count": 87,
      "outputs": [
        {
          "output_type": "stream",
          "name": "stdout",
          "text": [
            "Total number of parameters:  341017\n"
          ]
        }
      ]
    },
    {
      "cell_type": "code",
      "source": [
        "num_epochs = 1000\n",
        "learning_rate = 0.01\n",
        "losses = []\n",
        "batch_size = 64\n",
        "\n",
        "optimizer = tf.keras.optimizers.Adam(learning_rate=learning_rate)\n",
        "\n",
        "for epoch in range(num_epochs):\n",
        "    ix = tf.keras.random.randint(shape = (batch_size,) , minval=0 , maxval=Xtr.shape[0] , seed = seed)\n",
        "    Xb, Yb = tf.gather(Xtr , ix) , tf.gather(Ytr , ix) # batch X,Y\n",
        "\n",
        "    with tf.GradientTape() as tape:\n",
        "        # Embedding and reshape\n",
        "        emb = tf.gather(C, Xb)  # [batch, block_size, embedding_dim]\n",
        "        x1 = tf.reshape(emb, shape=(-1, n_emb * context_len))\n",
        "\n",
        "        # Layer 1 linear transformation\n",
        "        x1 = x1 @ W1 + b1\n",
        "\n",
        "        # BatchNorm1\n",
        "        mean1 = tf.reduce_mean(x1, axis=0, keepdims=True)\n",
        "        std1 = tf.math.reduce_std(x1, axis=0, keepdims=True)\n",
        "        x1 = (x1 - mean1) / tf.sqrt(std1 + 1e-5)\n",
        "        x1 = x1 * gamma_1 + beta_1\n",
        "\n",
        "        # Activation\n",
        "        h1 = tf.keras.activations.gelu(x1)\n",
        "\n",
        "        # Layer 2\n",
        "        x2 = h1 @ W2 + b2\n",
        "\n",
        "        # BatchNorm2\n",
        "        mean2 = tf.reduce_mean(x2, axis=0, keepdims=True)\n",
        "        std2 = tf.math.reduce_std(x2, axis=0, keepdims=True)\n",
        "        x2 = (x2 - mean2) / tf.sqrt(std2 + 1e-5)\n",
        "        x2 = x2 * gamma_2 + beta_2\n",
        "\n",
        "        # Activation\n",
        "        h2 = tf.keras.activations.gelu(x2)\n",
        "\n",
        "        # Layer 3\n",
        "        x3 = h2 @ W3 + b3\n",
        "\n",
        "        # BatchNorm 3\n",
        "        mean3 = tf.reduce_mean(x3, axis=0, keepdims=True)\n",
        "        std3 = tf.math.reduce_std(x3, axis=0, keepdims=True)\n",
        "        x3 = (x3 - mean3) / tf.sqrt(std3 + 1e-5)\n",
        "        x3 = x3 * gamma_3 + beta_3\n",
        "\n",
        "        # Activation\n",
        "        h3 = tf.keras.activations.gelu(x3)\n",
        "\n",
        "        # Output layer\n",
        "        logits = h3 @ W4 + b4\n",
        "\n",
        "        # Loss\n",
        "        loss = loss_fn(tf.reshape(Yb, [-1]), logits)\n",
        "\n",
        "    # ✅ Update running statistics (outside the tape)\n",
        "    running_mean_01.assign(momentum * running_mean_01 + (1. - momentum) * mean1)\n",
        "    running_std_01.assign(momentum * running_std_01 + (1. - momentum) * std1)\n",
        "    running_mean_02.assign(momentum * running_mean_02 + (1. - momentum) * mean2)\n",
        "    running_std_02.assign(momentum * running_std_02 + (1. - momentum) * std2)\n",
        "    running_mean_03.assign(momentum * running_mean_03 + (1. - momentum) * mean3)\n",
        "    running_std_03.assign(momentum * running_std_03 + (1. - momentum) * std3)\n",
        "\n",
        "    # Backprop\n",
        "    grads = tape.gradient(loss, parameters)\n",
        "    optimizer.apply_gradients(zip(grads, parameters))\n",
        "\n",
        "    losses.append(loss.numpy())\n",
        "\n",
        "    if epoch % 25 == 0:\n",
        "        print(f\"epoch={epoch}, loss={loss.numpy():.4f}\")\n"
      ],
      "metadata": {
        "colab": {
          "base_uri": "https://localhost:8080/"
        },
        "id": "Z1ZczEWOY0cL",
        "outputId": "c52ded44-384d-4284-c779-6c7edc100eb3"
      },
      "execution_count": 88,
      "outputs": [
        {
          "output_type": "stream",
          "name": "stdout",
          "text": [
            "epoch=0, loss=4.3159\n",
            "epoch=25, loss=2.6757\n",
            "epoch=50, loss=2.3487\n",
            "epoch=75, loss=2.6010\n",
            "epoch=100, loss=2.5780\n",
            "epoch=125, loss=2.2573\n",
            "epoch=150, loss=2.3253\n",
            "epoch=175, loss=2.2094\n",
            "epoch=200, loss=2.2316\n",
            "epoch=225, loss=2.5071\n",
            "epoch=250, loss=2.0741\n",
            "epoch=275, loss=2.0198\n",
            "epoch=300, loss=2.1674\n",
            "epoch=325, loss=2.2061\n",
            "epoch=350, loss=2.1732\n",
            "epoch=375, loss=2.5019\n",
            "epoch=400, loss=2.0486\n",
            "epoch=425, loss=1.8641\n",
            "epoch=450, loss=2.0870\n",
            "epoch=475, loss=1.9889\n",
            "epoch=500, loss=2.1891\n",
            "epoch=525, loss=2.2635\n",
            "epoch=550, loss=2.0521\n",
            "epoch=575, loss=2.0351\n",
            "epoch=600, loss=2.3895\n",
            "epoch=625, loss=2.3028\n",
            "epoch=650, loss=2.2299\n",
            "epoch=675, loss=1.9998\n",
            "epoch=700, loss=2.3187\n",
            "epoch=725, loss=2.3496\n",
            "epoch=750, loss=2.3955\n",
            "epoch=775, loss=2.1874\n",
            "epoch=800, loss=2.0588\n",
            "epoch=825, loss=1.9509\n",
            "epoch=850, loss=2.4040\n",
            "epoch=875, loss=1.8999\n",
            "epoch=900, loss=2.1999\n",
            "epoch=925, loss=1.9996\n",
            "epoch=950, loss=2.4219\n",
            "epoch=975, loss=1.9678\n"
          ]
        }
      ]
    },
    {
      "cell_type": "code",
      "source": [
        "plt.plot(losses)\n",
        "plt.title('Loss vs. Epoch', fontsize=16)\n",
        "plt.grid(True)\n",
        "plt.show()"
      ],
      "metadata": {
        "id": "awIrsD4IcTWY",
        "colab": {
          "base_uri": "https://localhost:8080/",
          "height": 454
        },
        "outputId": "cabb56ba-5c79-403f-87a3-22c8dd823410"
      },
      "execution_count": 89,
      "outputs": [
        {
          "output_type": "display_data",
          "data": {
            "text/plain": [
              "<Figure size 640x480 with 1 Axes>"
            ],
            "image/png": "[encoded data removed]"
          },
          "metadata": {}
        }
      ]
    },
    {
      "cell_type": "code",
      "source": [
        "print(\"Traning loss: \",losses[-1].item())"
      ],
      "metadata": {
        "id": "EkIuklajcXpX",
        "colab": {
          "base_uri": "https://localhost:8080/"
        },
        "outputId": "1d0b4481-17c5-4860-c5af-811b508e35c7"
      },
      "execution_count": 90,
      "outputs": [
        {
          "output_type": "stream",
          "name": "stdout",
          "text": [
            "Traning loss:  1.991283655166626\n"
          ]
        }
      ]
    },
    {
      "cell_type": "code",
      "source": [
        "emb = tf.gather(C,Xdev) # [batch, block_size, embedding_dim]\n",
        "x1 = tf.reshape(emb, shape=(-1, n_emb * context_len))\n",
        "x1 = x1 @ W1 + b1\n",
        "x1 = (x1 - running_mean_01) / tf.sqrt(running_std_01 + 1e-5)\n",
        "x1 = x1 * gamma_1 + beta_1\n",
        "h1 = tf.keras.activations.gelu(x1)\n",
        "\n",
        "x2 = h1 @ W2 + b2\n",
        "x2 = (x2 - running_mean_02) / tf.sqrt(running_std_02 + 1e-5)\n",
        "x2 = x2 * gamma_2 + beta_2\n",
        "h2 = tf.keras.activations.gelu(x2)\n",
        "\n",
        "x3 = h2 @ W3 + b3\n",
        "x3 = (x3 - running_mean_03) / tf.sqrt(running_std_03 + 1e-5)\n",
        "x3 = x3 * gamma_3 + beta_3\n",
        "h3 = tf.keras.activations.gelu(x3)\n",
        "\n",
        "logits = h3 @ W4 + b4\n",
        "loss = loss_fn(tf.reshape(Ydev, [-1]), logits)\n",
        "print(\"Validation loss: \",loss.numpy().item())"
      ],
      "metadata": {
        "id": "MvNlA6UecZx_",
        "colab": {
          "base_uri": "https://localhost:8080/"
        },
        "outputId": "c0fd9b18-b5f8-4a13-efdd-82ea731c83f8"
      },
      "execution_count": 91,
      "outputs": [
        {
          "output_type": "stream",
          "name": "stdout",
          "text": [
            "Validation loss:  2.0813345909118652\n"
          ]
        }
      ]
    }
  ]
}