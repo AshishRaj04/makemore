{
  "nbformat": 4,
  "nbformat_minor": 0,
  "metadata": {
    "colab": {
      "provenance": [],
      "mount_file_id": "1fwFMzzyuP_TPgc2i1JEK96WJL-K77PdE",
      "authorship_tag": "ABX9TyMWl/SHa04AnWhki17H9koW",
      "include_colab_link": true
    },
    "kernelspec": {
      "name": "python3",
      "display_name": "Python 3"
    },
    "language_info": {
      "name": "python"
    }
  },
  "cells": [
    {
      "cell_type": "markdown",
      "metadata": {
        "id": "view-in-github",
        "colab_type": "text"
      },
      "source": [
        "<a href=\"https://colab.research.google.com/github/AshishRaj04/makemore/blob/main/makemore.ipynb\" target=\"_parent\"><img src=\"https://colab.research.google.com/assets/colab-badge.svg\" alt=\"Open In Colab\"/></a>"
      ]
    },
    {
      "cell_type": "code",
      "execution_count": 5,
      "metadata": {
        "id": "8IiBmnFRtbXL"
      },
      "outputs": [],
      "source": [
        "f_path = \"/content/drive/MyDrive/Projects/ building makemore part 1/names.txt\""
      ]
    },
    {
      "cell_type": "code",
      "source": [
        "with open(f_path, \"r\") as f:\n",
        "  names = f.read().splitlines()\n",
        "\n",
        "print(len(names))"
      ],
      "metadata": {
        "colab": {
          "base_uri": "https://localhost:8080/"
        },
        "id": "JAynxSEjtyZe",
        "outputId": "5a12f15d-7545-4274-f7b2-2550536b88f2"
      },
      "execution_count": 6,
      "outputs": [
        {
          "output_type": "stream",
          "name": "stdout",
          "text": [
            "32033\n"
          ]
        }
      ]
    },
    {
      "cell_type": "code",
      "source": [
        "names[ : 10]"
      ],
      "metadata": {
        "colab": {
          "base_uri": "https://localhost:8080/"
        },
        "id": "0ZKvhawQuQiM",
        "outputId": "37a7997c-db21-4f03-cbf1-47d34aef0840"
      },
      "execution_count": 7,
      "outputs": [
        {
          "output_type": "execute_result",
          "data": {
            "text/plain": [
              "['emma',\n",
              " 'olivia',\n",
              " 'ava',\n",
              " 'isabella',\n",
              " 'sophia',\n",
              " 'charlotte',\n",
              " 'mia',\n",
              " 'amelia',\n",
              " 'harper',\n",
              " 'evelyn']"
            ]
          },
          "metadata": {},
          "execution_count": 7
        }
      ]
    },
    {
      "cell_type": "code",
      "source": [
        "min(len(name) for name in names)"
      ],
      "metadata": {
        "id": "4cxdl9iyuY6d",
        "colab": {
          "base_uri": "https://localhost:8080/"
        },
        "outputId": "cd8a44e8-7170-4a9d-d584-4f60f45afc9c"
      },
      "execution_count": 8,
      "outputs": [
        {
          "output_type": "execute_result",
          "data": {
            "text/plain": [
              "2"
            ]
          },
          "metadata": {},
          "execution_count": 8
        }
      ]
    },
    {
      "cell_type": "code",
      "source": [
        "max(len(name) for name in names)"
      ],
      "metadata": {
        "colab": {
          "base_uri": "https://localhost:8080/"
        },
        "id": "c741FfH6nZes",
        "outputId": "2d0aeffb-b6c9-4baa-cf65-fd6ddbb2d370"
      },
      "execution_count": 9,
      "outputs": [
        {
          "output_type": "execute_result",
          "data": {
            "text/plain": [
              "15"
            ]
          },
          "metadata": {},
          "execution_count": 9
        }
      ]
    },
    {
      "cell_type": "code",
      "source": [],
      "metadata": {
        "id": "vnUHfq1Jntgw"
      },
      "execution_count": null,
      "outputs": []
    }
  ]
}