{
  "nbformat": 4,
  "nbformat_minor": 0,
  "metadata": {
    "colab": {
      "provenance": [],
      "mount_file_id": "1tvTDDMuGE7cIe2MUA7qGqOE0XSnCKSt2",
      "authorship_tag": "ABX9TyMT/I9PzIwFW+CDK0HRqQsL",
      "include_colab_link": true
    },
    "kernelspec": {
      "name": "python3",
      "display_name": "Python 3"
    },
    "language_info": {
      "name": "python"
    }
  },
  "cells": [
    {
      "cell_type": "markdown",
      "metadata": {
        "id": "view-in-github",
        "colab_type": "text"
      },
      "source": [
        "<a href=\"https://colab.research.google.com/github/AshishRaj04/makemore/blob/main/makemore_part2.ipynb\" target=\"_parent\"><img src=\"https://colab.research.google.com/assets/colab-badge.svg\" alt=\"Open In Colab\"/></a>"
      ]
    },
    {
      "cell_type": "markdown",
      "source": [
        "**Problems**\n",
        "- last time we only had one character of context , i.e; 2D space\n",
        "- the prediction was not so good because of only one character of context.\n",
        "- if we take 3 character of context (3D-space) the number of possible probabilities grow exponentially 27x27x27.\n",
        "- Curse of dimensionality\n",
        "\n",
        "**Solution**\n",
        "- Modeling approach : *[Bengio et al. 2003 MLP language model paper](https://www.jmlr.org/papers/volume3/bengio03a/bengio03a.pdf)*\n",
        "- vocab: 17000 , association each word in vocab in a let's say 30 dim space as feature vectors . They were initiallized randomly . Then tuned using backpropagation , so that words having similar meaning goes to similar space.\n",
        "- Through the embedding space you can transfer knowledge that both 'cat' and 'dog' are followed by 'is'."
      ],
      "metadata": {
        "id": "pp7hhc6OdMZM"
      }
    },
    {
      "cell_type": "code",
      "source": [
        "from pathlib import Path\n",
        "import tensorflow as tf\n",
        "import matplotlib.pyplot as plt\n",
        "%matplotlib inline"
      ],
      "metadata": {
        "id": "I71fDCT3hYNt"
      },
      "execution_count": 1,
      "outputs": []
    },
    {
      "cell_type": "code",
      "execution_count": 2,
      "metadata": {
        "id": "2Ok3C1RQajFt"
      },
      "outputs": [],
      "source": [
        "# code to save the figures and plots\n",
        "\n",
        "IMAGES_PATH = Path() / \"results\"\n",
        "IMAGES_PATH.mkdir(parents=True, exist_ok=True)\n",
        "\n",
        "def save_fig(fig_id, tight_layout=True, fig_extension=\"png\", resolution=300):\n",
        "  path = IMAGES_PATH / f\"{fig_id}.{fig_extension}\"\n",
        "  if tight_layout:\n",
        "    plt.tight_layout()\n",
        "  plt.savefig(path, format=fig_extension, dpi=resolution)"
      ]
    },
    {
      "cell_type": "code",
      "source": [
        "seed = tf.random.set_seed(4224444)"
      ],
      "metadata": {
        "id": "g0s7YnFQzkMf"
      },
      "execution_count": 3,
      "outputs": []
    },
    {
      "cell_type": "code",
      "source": [
        "data_path = \"/content/drive/MyDrive/Projects/ building makemore part 1/names.txt\""
      ],
      "metadata": {
        "id": "wHvxVCFEiWdN"
      },
      "execution_count": 4,
      "outputs": []
    },
    {
      "cell_type": "code",
      "source": [
        "with open(data_path, 'r') as f:\n",
        "  names = f.read().splitlines()"
      ],
      "metadata": {
        "id": "k25D1n9DiaOo"
      },
      "execution_count": 5,
      "outputs": []
    },
    {
      "cell_type": "code",
      "source": [
        "len(names)"
      ],
      "metadata": {
        "colab": {
          "base_uri": "https://localhost:8080/"
        },
        "id": "KXAisy34iplB",
        "outputId": "7c4f5348-45c1-41d3-9ceb-c03a566f4ca2"
      },
      "execution_count": 6,
      "outputs": [
        {
          "output_type": "execute_result",
          "data": {
            "text/plain": [
              "32033"
            ]
          },
          "metadata": {},
          "execution_count": 6
        }
      ]
    },
    {
      "cell_type": "code",
      "source": [
        "chars = sorted(list(set(\"\".join(names))))\n",
        "str_to_idx = {s : i+1 for i,s in enumerate(chars)}\n",
        "str_to_idx['.'] = 0\n",
        "idx_to_str = {i:s for s,i in str_to_idx.items()}"
      ],
      "metadata": {
        "id": "RWJGZN4kirNK"
      },
      "execution_count": 7,
      "outputs": []
    },
    {
      "cell_type": "code",
      "source": [
        "print(idx_to_str)"
      ],
      "metadata": {
        "colab": {
          "base_uri": "https://localhost:8080/"
        },
        "id": "bXjSEjWli3ib",
        "outputId": "e6f288ea-7b9a-4b9f-d760-f874f351db02"
      },
      "execution_count": 8,
      "outputs": [
        {
          "output_type": "stream",
          "name": "stdout",
          "text": [
            "{1: 'a', 2: 'b', 3: 'c', 4: 'd', 5: 'e', 6: 'f', 7: 'g', 8: 'h', 9: 'i', 10: 'j', 11: 'k', 12: 'l', 13: 'm', 14: 'n', 15: 'o', 16: 'p', 17: 'q', 18: 'r', 19: 's', 20: 't', 21: 'u', 22: 'v', 23: 'w', 24: 'x', 25: 'y', 26: 'z', 0: '.'}\n"
          ]
        }
      ]
    },
    {
      "cell_type": "markdown",
      "source": [
        "# Data for traning"
      ],
      "metadata": {
        "id": "YXXG9gFEemp0"
      }
    },
    {
      "cell_type": "code",
      "source": [
        "block_size = 4 # size of the context length : how many character do we take to predict the next one ?\n",
        "\n",
        "X , Y = [] , []\n",
        "\n",
        "for name in names:\n",
        "  # print(name)\n",
        "  context = [0] * block_size\n",
        "  for ch in name + '.':\n",
        "    ix = str_to_idx[ch]\n",
        "    X.append(context)\n",
        "    Y.append(ix)\n",
        "    # print(''.join(idx_to_str[i] for i in context), '--->', ch)\n",
        "    context = context[1:] + [ix]\n"
      ],
      "metadata": {
        "id": "NHC9UuXijRSE"
      },
      "execution_count": 9,
      "outputs": []
    },
    {
      "cell_type": "code",
      "source": [
        "X = tf.Variable(tf.convert_to_tensor(X))\n",
        "Y = tf.Variable(tf.convert_to_tensor(Y))"
      ],
      "metadata": {
        "id": "the02s3yn8P9"
      },
      "execution_count": 10,
      "outputs": []
    },
    {
      "cell_type": "code",
      "source": [
        "X.shape , Y.shape"
      ],
      "metadata": {
        "colab": {
          "base_uri": "https://localhost:8080/"
        },
        "id": "iHzPORcNowok",
        "outputId": "84610828-b0d7-4854-829f-5ffeb9882f0f"
      },
      "execution_count": 11,
      "outputs": [
        {
          "output_type": "execute_result",
          "data": {
            "text/plain": [
              "(TensorShape([228146, 4]), TensorShape([228146]))"
            ]
          },
          "metadata": {},
          "execution_count": 11
        }
      ]
    },
    {
      "cell_type": "code",
      "source": [
        "C = tf.Variable(tf.random.uniform(shape=(27 , 2) , seed=seed))"
      ],
      "metadata": {
        "id": "VmL-4GAYoxid"
      },
      "execution_count": 45,
      "outputs": []
    },
    {
      "cell_type": "code",
      "source": [
        "plt.figure(figsize=(8,8))\n",
        "plt.scatter(C[:,0].numpy(), C[:,1].numpy(), s=200)\n",
        "for i in range(C.shape[0]):\n",
        "    plt.text(C[i,0].numpy().item(), C[i,1].numpy().item(), idx_to_str[i], ha=\"center\", va=\"center\", color='white')\n",
        "plt.grid('minor')\n",
        "# plt.savefig('raw_emb.png')"
      ],
      "metadata": {
        "colab": {
          "base_uri": "https://localhost:8080/",
          "height": 676
        },
        "id": "0P1v00JaODBV",
        "outputId": "a4aab2b2-2f52-47eb-bf49-be3d8496c76b"
      },
      "execution_count": 53,
      "outputs": [
        {
          "output_type": "display_data",
          "data": {
            "text/plain": [
              "<Figure size 800x800 with 1 Axes>"
            ],
            "image/png": "[encoded data removed]"
          },
          "metadata": {}
        }
      ]
    },
    {
      "cell_type": "markdown",
      "source": [
        "# Intutive understanding"
      ],
      "metadata": {
        "id": "41WED5QkeqdT"
      }
    },
    {
      "cell_type": "code",
      "source": [
        "emb = tf.gather(C, X) # 25 different examples , each having 4 dims to explain the context , each being embedded in space with 2 dims\n",
        "print(emb.shape)"
      ],
      "metadata": {
        "colab": {
          "base_uri": "https://localhost:8080/"
        },
        "id": "Ywuuk4B0rjQr",
        "outputId": "35b1d958-297b-45c2-f4eb-576435836155"
      },
      "execution_count": 15,
      "outputs": [
        {
          "output_type": "stream",
          "name": "stdout",
          "text": [
            "(25, 4, 2)\n"
          ]
        }
      ]
    },
    {
      "cell_type": "code",
      "source": [
        "initializer = tf.keras.initializers.GlorotNormal(seed=seed)\n",
        "W1 = tf.Variable(initializer(shape=(8 , 150)), name=\"W\")\n",
        "b1 = tf.Variable(tf.random.uniform(shape = [150]), name=\"b\")"
      ],
      "metadata": {
        "id": "bf4ER0jczQNK"
      },
      "execution_count": 16,
      "outputs": []
    },
    {
      "cell_type": "code",
      "source": [
        "# tf.concat([emb[ : , 0 , :] , emb[ : , 1 , :] ,  emb[ : , 2 , :] ,  emb[ : , 3 , :]] , axis = 1 ).shape\n",
        "# tf.concat(tf.unstack(emb , axis=1) , axis = 1).shape\n",
        "# tf.reshape(emb , shape=(25,8)).shape"
      ],
      "metadata": {
        "id": "nU7JbvLpxgNp"
      },
      "execution_count": 18,
      "outputs": []
    },
    {
      "cell_type": "code",
      "source": [
        "h = tf.math.tanh((tf.reshape(emb , shape=(-1 , 8)) @ W1) + b1)\n",
        "h.shape"
      ],
      "metadata": {
        "colab": {
          "base_uri": "https://localhost:8080/"
        },
        "id": "MmRkFHTA3G1l",
        "outputId": "076ec027-4001-4c39-df39-91b1cd907e1c"
      },
      "execution_count": 17,
      "outputs": [
        {
          "output_type": "execute_result",
          "data": {
            "text/plain": [
              "TensorShape([25, 150])"
            ]
          },
          "metadata": {},
          "execution_count": 17
        }
      ]
    },
    {
      "cell_type": "code",
      "source": [
        "W2 = tf.Variable(initializer(shape=(150 , 27)), name=\"W\")\n",
        "b2 = tf.Variable(tf.random.uniform(shape = [27]), name=\"b\")"
      ],
      "metadata": {
        "id": "bZacvAsm36ua"
      },
      "execution_count": 18,
      "outputs": []
    },
    {
      "cell_type": "code",
      "source": [
        "logits = h @ W2 + b2"
      ],
      "metadata": {
        "id": "LnbNTr_q37P1"
      },
      "execution_count": 19,
      "outputs": []
    },
    {
      "cell_type": "code",
      "source": [
        "logits.shape"
      ],
      "metadata": {
        "colab": {
          "base_uri": "https://localhost:8080/"
        },
        "id": "hXhQ1h88c4xn",
        "outputId": "b1507f2f-feb6-4dc1-f9af-bcc69aed603d"
      },
      "execution_count": 20,
      "outputs": [
        {
          "output_type": "execute_result",
          "data": {
            "text/plain": [
              "TensorShape([25, 27])"
            ]
          },
          "metadata": {},
          "execution_count": 20
        }
      ]
    },
    {
      "cell_type": "code",
      "source": [
        "counts = tf.math.exp(logits)\n",
        "probs = counts / tf.reduce_sum(counts , axis=1 , keepdims=True)"
      ],
      "metadata": {
        "id": "biCCZGII6LVF"
      },
      "execution_count": 21,
      "outputs": []
    },
    {
      "cell_type": "markdown",
      "source": [
        "- probs : for every sequence in X (25) , probabilities assigned to each character (27) , what might come next (prediction)\n",
        "- for 0th idx we know its \"e\" that is idx 5 . tf.gather will pluck out the probability assigned to \"e\" (0.04334054) . and similarly to every other sequence in the traning data .\n",
        "- this probability is not the highest as the nn is not trained."
      ],
      "metadata": {
        "id": "hQDxhouoXLgr"
      }
    },
    {
      "cell_type": "code",
      "source": [
        "indices = tf.stack([tf.range(tf.shape(X)[0]) , Y] , axis = 1)\n",
        "probabilities = tf.gather_nd(probs, indices)"
      ],
      "metadata": {
        "id": "J2f3z8McAStF"
      },
      "execution_count": 22,
      "outputs": []
    },
    {
      "cell_type": "code",
      "source": [
        "probabilities"
      ],
      "metadata": {
        "id": "f5wIV0hEDnUW",
        "colab": {
          "base_uri": "https://localhost:8080/"
        },
        "outputId": "e09b7b4e-2eb1-4d10-9937-8348aec70151"
      },
      "execution_count": 23,
      "outputs": [
        {
          "output_type": "execute_result",
          "data": {
            "text/plain": [
              "<tf.Tensor: shape=(25,), dtype=float32, numpy=\n",
              "array([0.0122228 , 0.01001852, 0.00823515, 0.03289492, 0.01034561,\n",
              "       0.00962095, 0.02149989, 0.04419374, 0.02224802, 0.04205625,\n",
              "       0.02920678, 0.01205226, 0.03062414, 0.0208989 , 0.03218884,\n",
              "       0.01169239, 0.04550154, 0.0966335 , 0.03000297, 0.02960395,\n",
              "       0.01772849, 0.0145019 , 0.01571724, 0.03445022, 0.00958705],\n",
              "      dtype=float32)>"
            ]
          },
          "metadata": {},
          "execution_count": 23
        }
      ]
    },
    {
      "cell_type": "code",
      "source": [
        "loss = tf.reduce_mean(-tf.math.log(probabilities))"
      ],
      "metadata": {
        "id": "iYSo5wI8bzVH"
      },
      "execution_count": 24,
      "outputs": []
    },
    {
      "cell_type": "code",
      "source": [
        "loss"
      ],
      "metadata": {
        "colab": {
          "base_uri": "https://localhost:8080/"
        },
        "id": "BOG55yrlcHjs",
        "outputId": "7f90bd03-f275-4765-ac50-2f17f62377de"
      },
      "execution_count": 25,
      "outputs": [
        {
          "output_type": "execute_result",
          "data": {
            "text/plain": [
              "<tf.Tensor: shape=(), dtype=float32, numpy=3.8579320907592773>"
            ]
          },
          "metadata": {},
          "execution_count": 25
        }
      ]
    },
    {
      "cell_type": "code",
      "source": [
        "loss_fn = tf.keras.losses.SparseCategoricalCrossentropy(from_logits=True)\n",
        "Y_reshaped = tf.reshape(Y, [-1])\n",
        "loss_fn(Y_reshaped, logits)"
      ],
      "metadata": {
        "colab": {
          "base_uri": "https://localhost:8080/"
        },
        "id": "1J3Dgm1oejs1",
        "outputId": "ff6a894e-d060-40e8-c213-4e5f6508f7da"
      },
      "execution_count": 26,
      "outputs": [
        {
          "output_type": "execute_result",
          "data": {
            "text/plain": [
              "<tf.Tensor: shape=(), dtype=float32, numpy=3.8579320907592773>"
            ]
          },
          "metadata": {},
          "execution_count": 26
        }
      ]
    },
    {
      "cell_type": "markdown",
      "source": [
        "- always use tf loss function when building large nn\n",
        "- here both loss are same\n",
        "- but in case of SparseCategoricalCrossentropy , forward pass , backpropagation will be much efficient and things will be numerically stable"
      ],
      "metadata": {
        "id": "0Lz7mJZ2jmr6"
      }
    },
    {
      "cell_type": "markdown",
      "source": [
        "# Neural Network Setup"
      ],
      "metadata": {
        "id": "a3gvhnjWeJbq"
      }
    },
    {
      "cell_type": "code",
      "source": [
        "block_size = 4 # size of the context length : how many character do we take to predict the next one ?\n",
        "\n",
        "def build_dataset(names):\n",
        "\n",
        "  X , Y = [] , []\n",
        "\n",
        "  for name in names:\n",
        "    # print(name)\n",
        "    context = [0] * block_size\n",
        "    for ch in name + '.':\n",
        "      ix = str_to_idx[ch]\n",
        "      X.append(context)\n",
        "      Y.append(ix)\n",
        "      # print(''.join(idx_to_str[i] for i in context), '--->', ch)\n",
        "      context = context[1:] + [ix]\n",
        "  X = tf.Variable(tf.convert_to_tensor(X))\n",
        "  Y = tf.Variable(tf.convert_to_tensor(Y))\n",
        "  print(X.shape, Y.shape)\n",
        "  return X, Y\n",
        "\n"
      ],
      "metadata": {
        "id": "fLUW9D67p6ph"
      },
      "execution_count": 54,
      "outputs": []
    },
    {
      "cell_type": "code",
      "source": [
        "import random\n",
        "random.seed(42)\n",
        "random.shuffle(names)\n",
        "n1 = int(0.8*len(names))\n",
        "n2 = int(0.9*len(names))\n",
        "\n",
        "Xtr, Ytr = build_dataset(names[:n1])\n",
        "Xdev, Ydev = build_dataset(names[n1:n2])\n",
        "Xte, Yte = build_dataset(names[n2:])"
      ],
      "metadata": {
        "colab": {
          "base_uri": "https://localhost:8080/"
        },
        "id": "9uktT13vrdCL",
        "outputId": "e2c985fb-b477-4187-fe66-8219c7e5ef58"
      },
      "execution_count": 55,
      "outputs": [
        {
          "output_type": "stream",
          "name": "stdout",
          "text": [
            "(182580, 4) (182580,)\n",
            "(22767, 4) (22767,)\n",
            "(22799, 4) (22799,)\n"
          ]
        }
      ]
    },
    {
      "cell_type": "code",
      "source": [
        "C = tf.Variable(tf.random.uniform(shape=(27 , 2) , seed=seed))"
      ],
      "metadata": {
        "id": "K8GagYbGrx09"
      },
      "execution_count": 56,
      "outputs": []
    },
    {
      "cell_type": "code",
      "source": [
        "initializer = tf.keras.initializers.GlorotNormal(seed=seed)\n",
        "W1 = tf.Variable(initializer(shape=(8 , 150)), name=\"W\")\n",
        "b1 = tf.Variable(tf.random.uniform(shape = [150]), name=\"b\")"
      ],
      "metadata": {
        "id": "2k02R6kSeRsW"
      },
      "execution_count": 57,
      "outputs": []
    },
    {
      "cell_type": "code",
      "source": [
        "W2 = tf.Variable(initializer(shape=(150 , 27)), name=\"W\")\n",
        "b2 = tf.Variable(tf.random.uniform(shape = [27]), name=\"b\")"
      ],
      "metadata": {
        "id": "v-5X3-oBeRVZ"
      },
      "execution_count": 58,
      "outputs": []
    },
    {
      "cell_type": "code",
      "source": [
        "loss_fn = tf.keras.losses.SparseCategoricalCrossentropy(from_logits=True)"
      ],
      "metadata": {
        "id": "1oEHEuWJefFa"
      },
      "execution_count": 59,
      "outputs": []
    },
    {
      "cell_type": "code",
      "source": [
        "parameters = [C , W1 , b1 , W2 , b2]"
      ],
      "metadata": {
        "id": "txopQAb-pj5Z"
      },
      "execution_count": 60,
      "outputs": []
    },
    {
      "cell_type": "code",
      "source": [
        "for p in parameters:\n",
        "  total_elements = tf.size(p).numpy()\n",
        "  print(f\"Parameter: {p.name}, Total elements: {total_elements}\")"
      ],
      "metadata": {
        "colab": {
          "base_uri": "https://localhost:8080/"
        },
        "id": "matPR9BQa5ww",
        "outputId": "02362b64-1662-49e5-87ac-4a84c08ccc43"
      },
      "execution_count": 61,
      "outputs": [
        {
          "output_type": "stream",
          "name": "stdout",
          "text": [
            "Parameter: Variable:0, Total elements: 54\n",
            "Parameter: W:0, Total elements: 1200\n",
            "Parameter: b:0, Total elements: 150\n",
            "Parameter: W:0, Total elements: 4050\n",
            "Parameter: b:0, Total elements: 27\n"
          ]
        }
      ]
    },
    {
      "cell_type": "code",
      "source": [
        "num_epochs = 600\n",
        "learning_rate = 0.01\n",
        "losses = []\n",
        "# Instantiate the Adam optimizer\n",
        "optimizer = tf.keras.optimizers.Adam(learning_rate=learning_rate)\n",
        "\n",
        "for epoch in range(num_epochs):\n",
        "    with tf.GradientTape() as tape:\n",
        "        # Forward pass:\n",
        "        emb = tf.gather(C,Xtr) # [batch, block_size, embedding_dim]\n",
        "        h = tf.math.tanh((tf.reshape(emb , shape=(-1 , 8)) @ W1) + b1)\n",
        "        logits = h @ W2 + b2\n",
        "        loss = loss_fn(tf.reshape(Ytr, [-1]), logits)\n",
        "\n",
        "\n",
        "    # Compute the gradients with respect to parameters\n",
        "    grads = tape.gradient(loss, parameters)\n",
        "\n",
        "    # Update parameters using the Adam optimizer\n",
        "    optimizer.apply_gradients(zip(grads, parameters))\n",
        "\n",
        "    losses.append(loss.numpy())\n",
        "\n",
        "    if epoch % 30 == 0:\n",
        "      print(f\"epoch={epoch}, loss={loss.numpy():.4f}\")"
      ],
      "metadata": {
        "colab": {
          "base_uri": "https://localhost:8080/"
        },
        "id": "o05137H6jDGO",
        "outputId": "857e3f0b-8cef-4ff4-d5da-acda249529e8"
      },
      "execution_count": 62,
      "outputs": [
        {
          "output_type": "stream",
          "name": "stdout",
          "text": [
            "epoch=0, loss=3.6542\n",
            "epoch=30, loss=2.4423\n",
            "epoch=60, loss=2.4084\n",
            "epoch=90, loss=2.3686\n",
            "epoch=120, loss=2.3256\n",
            "epoch=150, loss=2.2950\n",
            "epoch=180, loss=2.2691\n",
            "epoch=210, loss=2.2471\n",
            "epoch=240, loss=2.2299\n",
            "epoch=270, loss=2.2143\n",
            "epoch=300, loss=2.2034\n",
            "epoch=330, loss=2.1883\n",
            "epoch=360, loss=2.1805\n",
            "epoch=390, loss=2.1694\n",
            "epoch=420, loss=2.1624\n",
            "epoch=450, loss=2.1562\n",
            "epoch=480, loss=2.1508\n",
            "epoch=510, loss=2.1463\n",
            "epoch=540, loss=2.1421\n",
            "epoch=570, loss=2.1369\n"
          ]
        }
      ]
    },
    {
      "cell_type": "code",
      "source": [
        "plt.figure(figsize=(10, 6))\n",
        "plt.plot(losses, linestyle='-', color='b')\n",
        "plt.title('Loss vs. Epoch', fontsize=16)\n",
        "plt.xlabel('Epoch', fontsize=12)\n",
        "plt.ylabel('Loss', fontsize=12)\n",
        "plt.grid(True)\n",
        "# plt.savefig('loss_vs_epoch.png')\n",
        "plt.show()"
      ],
      "metadata": {
        "colab": {
          "base_uri": "https://localhost:8080/",
          "height": 570
        },
        "id": "0aD91Ku3cwZn",
        "outputId": "118cb651-10ad-4035-a481-259528dd3699"
      },
      "execution_count": 64,
      "outputs": [
        {
          "output_type": "display_data",
          "data": {
            "text/plain": [
              "<Figure size 1000x600 with 1 Axes>"
            ],
            "image/png": "[encoded data removed]"
          },
          "metadata": {}
        }
      ]
    },
    {
      "cell_type": "markdown",
      "source": [
        "traning loss"
      ],
      "metadata": {
        "id": "5jhRz1ka6OUR"
      }
    },
    {
      "cell_type": "code",
      "source": [
        "emb = tf.gather(C,Xtr) # [batch, block_size, embedding_dim]\n",
        "h = tf.math.tanh((tf.reshape(emb , shape=(-1 , 8)) @ W1) + b1)\n",
        "logits = h @ W2 + b2\n",
        "loss = loss_fn(tf.reshape(Ytr, [-1]), logits)\n",
        "loss"
      ],
      "metadata": {
        "colab": {
          "base_uri": "https://localhost:8080/"
        },
        "id": "MS6U_dpjf9Qp",
        "outputId": "e0c91157-1860-47d7-aa2e-d756131531c9"
      },
      "execution_count": 65,
      "outputs": [
        {
          "output_type": "execute_result",
          "data": {
            "text/plain": [
              "<tf.Tensor: shape=(), dtype=float32, numpy=2.133781671524048>"
            ]
          },
          "metadata": {},
          "execution_count": 65
        }
      ]
    },
    {
      "cell_type": "markdown",
      "source": [
        "validation loss"
      ],
      "metadata": {
        "id": "e86TJlcG6P8d"
      }
    },
    {
      "cell_type": "code",
      "source": [
        "emb = tf.gather(C,Xdev) # [batch, block_size, embedding_dim]\n",
        "h = tf.math.tanh((tf.reshape(emb , shape=(-1 , 8)) @ W1) + b1)\n",
        "logits = h @ W2 + b2\n",
        "loss = loss_fn(tf.reshape(Ydev, [-1]), logits)\n",
        "loss"
      ],
      "metadata": {
        "colab": {
          "base_uri": "https://localhost:8080/"
        },
        "id": "LnXIbDqQtK2h",
        "outputId": "d5e86914-64e3-44f9-909f-74a709baa297"
      },
      "execution_count": 66,
      "outputs": [
        {
          "output_type": "execute_result",
          "data": {
            "text/plain": [
              "<tf.Tensor: shape=(), dtype=float32, numpy=2.154500722885132>"
            ]
          },
          "metadata": {},
          "execution_count": 66
        }
      ]
    },
    {
      "cell_type": "markdown",
      "source": [
        "so the validation loss and the traning losses are kinda equal and hense the model is not powerfull enough to memorise the traning data completely .\n",
        "this means our model is weak as of now . we have to increase the model parameters and embedding dimensions"
      ],
      "metadata": {
        "id": "6jpZQ0oUto6b"
      }
    },
    {
      "cell_type": "code",
      "source": [
        "plt.figure(figsize=(8,8))\n",
        "plt.scatter(C[:,0].numpy(), C[:,1].numpy(), s=200)\n",
        "for i in range(C.shape[0]):\n",
        "    plt.text(C[i,0].numpy().item(), C[i,1].numpy().item(), idx_to_str[i], ha=\"center\", va=\"center\", color='white')\n",
        "plt.grid('minor')\n",
        "# plt.savefig('learned_emb.png')"
      ],
      "metadata": {
        "colab": {
          "base_uri": "https://localhost:8080/",
          "height": 676
        },
        "id": "u-13aobiuTEL",
        "outputId": "9d230607-6ca3-49bd-f7ce-4d66768d41ab"
      },
      "execution_count": 67,
      "outputs": [
        {
          "output_type": "display_data",
          "data": {
            "text/plain": [
              "<Figure size 800x800 with 1 Axes>"
            ],
            "image/png": "[encoded data removed]"
          },
          "metadata": {}
        }
      ]
    },
    {
      "cell_type": "markdown",
      "source": [
        "## 🔍 What This Embedding Plot Shows\n",
        "Each point is a 2D projection of a learned vector for one character (a-z). Based on your plot:\n",
        "\n",
        "**✅ Semantically similar letters are clustering together**:\n",
        "- Most characters are huddled in the middle (likely due to being more common in names).\n",
        "\n",
        "- Letters like d, t, h, w, z, f, s are very close — which makes sense:\n",
        "\n",
        "- These often appear in similar contexts (like ending or middle of names).\n",
        "\n",
        "**🧠 Outliers are meaningful**:\n",
        "- q, x, l, and j are further out — not super frequent in names and less interchangeable with other letters.\n",
        "\n",
        "- a and e are spaced apart — possibly because:\n",
        "\n",
        "- a is common as a prefix/suffix (e.g. anna, alex, etc.).\n",
        "\n",
        "- e appears a lot but likely in different contexts (e.g. steve, george).\n",
        "\n",
        "**🤔 Some characters may have a unique phonetic or positional role**:\n",
        "- For example:\n",
        "\n",
        "- l is often doubled (ll) in names like \"Bella\", \"Will\".\n",
        "\n",
        "- q rarely occurs except with u, giving it a unique use pattern."
      ],
      "metadata": {
        "id": "aqB4FLE723hP"
      }
    },
    {
      "cell_type": "markdown",
      "source": [
        "# Sampling from the model"
      ],
      "metadata": {
        "id": "qIs9u4FF4qmp"
      }
    },
    {
      "cell_type": "code",
      "source": [
        "block_size = 4\n",
        "for _ in range(20):\n",
        "\n",
        "    out = []\n",
        "    context = [0] * block_size # initialize with all ...\n",
        "    while True:\n",
        "      emb = tf.gather(C , tf.constant([context] , dtype=tf.int32)) # (1,block_size,d)\n",
        "      emb_flat = tf.reshape(emb, [1, -1])\n",
        "      h = tf.math.tanh(tf.matmul(emb_flat, W1) + b1)\n",
        "      logits = h @ W2 + b2\n",
        "      probs = tf.nn.softmax(logits, axis=1)\n",
        "      ix = tf.random.categorical(tf.math.log(probs), num_samples=1)[0, 0].numpy()\n",
        "      context = context[1:] + [ix]\n",
        "      out.append(ix)\n",
        "      if ix == 0:\n",
        "        break\n",
        "\n",
        "    print(''.join(idx_to_str[i] for i in out))"
      ],
      "metadata": {
        "id": "dLW_VhKo3YYK",
        "outputId": "ac93fbc0-45c4-44bf-9433-39c06765819f",
        "colab": {
          "base_uri": "https://localhost:8080/"
        }
      },
      "execution_count": 71,
      "outputs": [
        {
          "output_type": "stream",
          "name": "stdout",
          "text": [
            "chubarae.\n",
            "talay.\n",
            "deom.\n",
            "aman.\n",
            "fery.\n",
            "mathraehley.\n",
            "ajacitaynadie.\n",
            "kayse.\n",
            "mayser.\n",
            "pharley.\n",
            "fyso.\n",
            "camchevan.\n",
            "athelie.\n",
            "silolinn.\n",
            "heiren.\n",
            "kayann.\n",
            "tray.\n",
            "travi.\n",
            "dermus.\n",
            "gadriet.\n"
          ]
        }
      ]
    }
  ]
}