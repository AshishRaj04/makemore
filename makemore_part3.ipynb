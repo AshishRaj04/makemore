{
  "nbformat": 4,
  "nbformat_minor": 0,
  "metadata": {
    "colab": {
      "provenance": [],
      "gpuType": "T4",
      "mount_file_id": "1qP-uQZiisSz_LmhK8Rf4Bmd5gIkAj3JM",
      "authorship_tag": "ABX9TyM5RdoBVxRP2Si16kMh5KHm",
      "include_colab_link": true
    },
    "kernelspec": {
      "name": "python3",
      "display_name": "Python 3"
    },
    "language_info": {
      "name": "python"
    },
    "accelerator": "GPU"
  },
  "cells": [
    {
      "cell_type": "markdown",
      "metadata": {
        "id": "view-in-github",
        "colab_type": "text"
      },
      "source": [
        "<a href=\"https://colab.research.google.com/github/AshishRaj04/makemore/blob/main/makemore_part3.ipynb\" target=\"_parent\"><img src=\"https://colab.research.google.com/assets/colab-badge.svg\" alt=\"Open In Colab\"/></a>"
      ]
    },
    {
      "cell_type": "code",
      "execution_count": 1,
      "metadata": {
        "id": "_4Fjo1L0JaX4"
      },
      "outputs": [],
      "source": [
        "data_path = \"/content/drive/MyDrive/Projects/ building makemore part 1/anime_names.txt\""
      ]
    },
    {
      "cell_type": "code",
      "source": [
        "import tensorflow as tf\n",
        "import matplotlib.pyplot as plt\n",
        "import numpy as np\n",
        "import random\n",
        "%matplotlib inline"
      ],
      "metadata": {
        "id": "6toMDVgoS9Ga"
      },
      "execution_count": 21,
      "outputs": []
    },
    {
      "cell_type": "code",
      "source": [
        "with open(data_path, \"r\") as f:\n",
        "  names = f.read().splitlines()"
      ],
      "metadata": {
        "id": "d-HVV8DlTNI_"
      },
      "execution_count": 5,
      "outputs": []
    },
    {
      "cell_type": "code",
      "source": [
        "len(names)"
      ],
      "metadata": {
        "colab": {
          "base_uri": "https://localhost:8080/"
        },
        "id": "irXzynwwTfOa",
        "outputId": "eff4b3f5-5f6c-4023-ca8d-051abb3070a2"
      },
      "execution_count": 17,
      "outputs": [
        {
          "output_type": "execute_result",
          "data": {
            "text/plain": [
              "72776"
            ]
          },
          "metadata": {},
          "execution_count": 17
        }
      ]
    },
    {
      "cell_type": "code",
      "source": [
        "print(names[ : 2])"
      ],
      "metadata": {
        "colab": {
          "base_uri": "https://localhost:8080/"
        },
        "id": "1QUmpuuIW4Wc",
        "outputId": "f42f862a-c800-43e2-dafa-3094cc12515b"
      },
      "execution_count": 19,
      "outputs": [
        {
          "output_type": "stream",
          "name": "stdout",
          "text": [
            "['Pie_a_La_Mode', 'Celica_A_Mercury']\n"
          ]
        }
      ]
    },
    {
      "cell_type": "code",
      "source": [
        "chars = sorted(list(set(\"\".join(names))))"
      ],
      "metadata": {
        "id": "OOGefXDcTiLc"
      },
      "execution_count": 10,
      "outputs": []
    },
    {
      "cell_type": "code",
      "source": [
        "len(chars)"
      ],
      "metadata": {
        "colab": {
          "base_uri": "https://localhost:8080/"
        },
        "id": "wcRbMSAjTy2N",
        "outputId": "af4d6ffa-c41e-4bb6-84bc-a0d1813422af"
      },
      "execution_count": 12,
      "outputs": [
        {
          "output_type": "execute_result",
          "data": {
            "text/plain": [
              "66"
            ]
          },
          "metadata": {},
          "execution_count": 12
        }
      ]
    },
    {
      "cell_type": "code",
      "source": [
        "str_to_idx = {ch : i+1 for i , ch in enumerate(chars)}\n",
        "str_to_idx[\".\"] = 0\n",
        "idx_to_str = {i : ch for ch , i in str_to_idx.items()}\n",
        "vocab_size = len(idx_to_str)\n",
        "print(idx_to_str)\n",
        "print(vocab_size)"
      ],
      "metadata": {
        "colab": {
          "base_uri": "https://localhost:8080/"
        },
        "id": "eGCdVhbbT_QC",
        "outputId": "3f63955c-3e6f-43e0-a899-2ef261198465"
      },
      "execution_count": 15,
      "outputs": [
        {
          "output_type": "stream",
          "name": "stdout",
          "text": [
            "{1: '#', 2: '-', 3: '0', 4: '1', 5: '2', 6: '3', 7: '4', 8: '5', 9: '6', 10: '7', 11: '8', 12: '9', 13: '?', 14: 'A', 15: 'B', 16: 'C', 17: 'D', 18: 'E', 19: 'F', 20: 'G', 21: 'H', 22: 'I', 23: 'J', 24: 'K', 25: 'L', 26: 'M', 27: 'N', 28: 'O', 29: 'P', 30: 'Q', 31: 'R', 32: 'S', 33: 'T', 34: 'U', 35: 'V', 36: 'W', 37: 'X', 38: 'Y', 39: 'Z', 40: '_', 41: 'a', 42: 'b', 43: 'c', 44: 'd', 45: 'e', 46: 'f', 47: 'g', 48: 'h', 49: 'i', 50: 'j', 51: 'k', 52: 'l', 53: 'm', 54: 'n', 55: 'o', 56: 'p', 57: 'q', 58: 'r', 59: 's', 60: 't', 61: 'u', 62: 'v', 63: 'w', 64: 'x', 65: 'y', 66: 'z', 0: '.'}\n",
            "67\n"
          ]
        }
      ]
    },
    {
      "cell_type": "code",
      "source": [
        "context_len = 4\n",
        "def build_dataset(names):\n",
        "  X , Y = [] , []\n",
        "\n",
        "  for name in names:\n",
        "    context = [0] * context_len\n",
        "    for ch in name + \".\":\n",
        "      ix = str_to_idx[ch]\n",
        "      X.append(context)\n",
        "      Y.append(ix)\n",
        "      context = context[1:] + [ix]\n",
        "\n",
        "  X = tf.convert_to_tensor(X)\n",
        "  Y = tf.convert_to_tensor(Y)\n",
        "  print(X.shape , Y.shape)\n",
        "  return X , Y"
      ],
      "metadata": {
        "id": "SlBALHcFUXpr"
      },
      "execution_count": 26,
      "outputs": []
    },
    {
      "cell_type": "code",
      "source": [
        "random.seed(42)\n",
        "random.shuffle(names)\n",
        "n1 = int(0.8 * len(names))\n",
        "n2 = int(0.9 * len(names))\n",
        "\n",
        "Xtr , Ytr = build_dataset(names[:n1])\n",
        "Xdev , Ydev = build_dataset(names[n1:n2])\n",
        "Xte , Yte = build_dataset(names[n2:])"
      ],
      "metadata": {
        "colab": {
          "base_uri": "https://localhost:8080/"
        },
        "id": "YM4uf7oqYAnV",
        "outputId": "10679b9d-d61c-4f31-a0a4-f080f1a156d5"
      },
      "execution_count": 27,
      "outputs": [
        {
          "output_type": "stream",
          "name": "stdout",
          "text": [
            "(834330, 4) (834330,)\n",
            "(104009, 4) (104009,)\n",
            "(104487, 4) (104487,)\n"
          ]
        }
      ]
    },
    {
      "cell_type": "code",
      "source": [],
      "metadata": {
        "id": "98J6ZFJ0Ylv0"
      },
      "execution_count": null,
      "outputs": []
    }
  ]
}