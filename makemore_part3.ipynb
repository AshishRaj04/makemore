{
  "nbformat": 4,
  "nbformat_minor": 0,
  "metadata": {
    "colab": {
      "provenance": [],
      "gpuType": "T4",
      "mount_file_id": "1qP-uQZiisSz_LmhK8Rf4Bmd5gIkAj3JM",
      "authorship_tag": "ABX9TyPeJETtrV2cT0hXpyZg+jfK",
      "include_colab_link": true
    },
    "kernelspec": {
      "name": "python3",
      "display_name": "Python 3"
    },
    "language_info": {
      "name": "python"
    },
    "accelerator": "GPU"
  },
  "cells": [
    {
      "cell_type": "markdown",
      "metadata": {
        "id": "view-in-github",
        "colab_type": "text"
      },
      "source": [
        "<a href=\"https://colab.research.google.com/github/AshishRaj04/makemore/blob/main/makemore_part3.ipynb\" target=\"_parent\"><img src=\"https://colab.research.google.com/assets/colab-badge.svg\" alt=\"Open In Colab\"/></a>"
      ]
    },
    {
      "cell_type": "code",
      "execution_count": 1,
      "metadata": {
        "id": "_4Fjo1L0JaX4"
      },
      "outputs": [],
      "source": [
        "data_path = \"/content/drive/MyDrive/Projects/ building makemore part 1/anime_names.txt\""
      ]
    },
    {
      "cell_type": "markdown",
      "source": [
        "Importing modules"
      ],
      "metadata": {
        "id": "SeLfzT0zykcf"
      }
    },
    {
      "cell_type": "code",
      "source": [
        "import tensorflow as tf\n",
        "import matplotlib.pyplot as plt\n",
        "import numpy as np\n",
        "import random\n",
        "%matplotlib inline"
      ],
      "metadata": {
        "id": "6toMDVgoS9Ga"
      },
      "execution_count": 2,
      "outputs": []
    },
    {
      "cell_type": "markdown",
      "source": [
        "Reading anima names in names list"
      ],
      "metadata": {
        "id": "TR_OWSsIyraB"
      }
    },
    {
      "cell_type": "code",
      "source": [
        "with open(data_path, \"r\") as f:\n",
        "  names = f.read().splitlines()"
      ],
      "metadata": {
        "id": "d-HVV8DlTNI_"
      },
      "execution_count": 3,
      "outputs": []
    },
    {
      "cell_type": "code",
      "source": [
        "len(names)"
      ],
      "metadata": {
        "colab": {
          "base_uri": "https://localhost:8080/"
        },
        "id": "irXzynwwTfOa",
        "outputId": "d1be132f-dcc7-4197-f2a1-5517186b469d"
      },
      "execution_count": 4,
      "outputs": [
        {
          "output_type": "execute_result",
          "data": {
            "text/plain": [
              "72776"
            ]
          },
          "metadata": {},
          "execution_count": 4
        }
      ]
    },
    {
      "cell_type": "code",
      "source": [
        "print(names[ : 20])"
      ],
      "metadata": {
        "colab": {
          "base_uri": "https://localhost:8080/"
        },
        "id": "1QUmpuuIW4Wc",
        "outputId": "8fd24c8f-d8cd-4683-bc2c-1f736c6fda38"
      },
      "execution_count": 5,
      "outputs": [
        {
          "output_type": "stream",
          "name": "stdout",
          "text": [
            "['Pie_a_La_Mode', 'Celica_A_Mercury', 'Konoe_A_Mercury', 'Priapus_A_Tarou', 'Faalala_Aa_Larm', 'Torry_Aaes', 'Angel_Aaltonen', 'Diana_Aaman', 'Itsue_Aasu', 'Futaba_Aasu', 'Hitomi_Aasu', 'Nanase_Aasu', 'Mitsuki_Aasu', 'Mutsumi_Aasu', 'Shii_Aasu', 'Lashara_Aasu_XXVIII', 'Kim_Aba', 'Iouri_Abalkin', 'Renji_Abarai', 'Ichika_Abarai']\n"
          ]
        }
      ]
    },
    {
      "cell_type": "code",
      "source": [
        "chars = sorted(list(set(\"\".join(names))))"
      ],
      "metadata": {
        "id": "OOGefXDcTiLc"
      },
      "execution_count": 6,
      "outputs": []
    },
    {
      "cell_type": "markdown",
      "source": [
        "There are total of 66 characters"
      ],
      "metadata": {
        "id": "Pf22fyGBy0z5"
      }
    },
    {
      "cell_type": "code",
      "source": [
        "len(chars)"
      ],
      "metadata": {
        "colab": {
          "base_uri": "https://localhost:8080/"
        },
        "id": "wcRbMSAjTy2N",
        "outputId": "837497df-0387-449b-fae0-4457248660c8"
      },
      "execution_count": 7,
      "outputs": [
        {
          "output_type": "execute_result",
          "data": {
            "text/plain": [
              "66"
            ]
          },
          "metadata": {},
          "execution_count": 7
        }
      ]
    },
    {
      "cell_type": "markdown",
      "source": [
        "Creating a dict of characters having index to character mapping"
      ],
      "metadata": {
        "id": "Z7Y1iZp8y4hD"
      }
    },
    {
      "cell_type": "code",
      "source": [
        "str_to_idx = {ch : i+1 for i , ch in enumerate(chars)}\n",
        "str_to_idx[\".\"] = 0\n",
        "idx_to_str = {i : ch for ch , i in str_to_idx.items()}\n",
        "print(idx_to_str)"
      ],
      "metadata": {
        "colab": {
          "base_uri": "https://localhost:8080/"
        },
        "id": "eGCdVhbbT_QC",
        "outputId": "1c023619-cc2c-4874-d5b8-b2feed902a48"
      },
      "execution_count": 8,
      "outputs": [
        {
          "output_type": "stream",
          "name": "stdout",
          "text": [
            "{1: '#', 2: '-', 3: '0', 4: '1', 5: '2', 6: '3', 7: '4', 8: '5', 9: '6', 10: '7', 11: '8', 12: '9', 13: '?', 14: 'A', 15: 'B', 16: 'C', 17: 'D', 18: 'E', 19: 'F', 20: 'G', 21: 'H', 22: 'I', 23: 'J', 24: 'K', 25: 'L', 26: 'M', 27: 'N', 28: 'O', 29: 'P', 30: 'Q', 31: 'R', 32: 'S', 33: 'T', 34: 'U', 35: 'V', 36: 'W', 37: 'X', 38: 'Y', 39: 'Z', 40: '_', 41: 'a', 42: 'b', 43: 'c', 44: 'd', 45: 'e', 46: 'f', 47: 'g', 48: 'h', 49: 'i', 50: 'j', 51: 'k', 52: 'l', 53: 'm', 54: 'n', 55: 'o', 56: 'p', 57: 'q', 58: 'r', 59: 's', 60: 't', 61: 'u', 62: 'v', 63: 'w', 64: 'x', 65: 'y', 66: 'z', 0: '.'}\n"
          ]
        }
      ]
    },
    {
      "cell_type": "markdown",
      "source": [
        "- Using context length of 8\n",
        "- Using only 30k names for traning due to insufficient RAM.\n",
        "- X , Y tensors are data"
      ],
      "metadata": {
        "id": "rGrlm5qbzCnD"
      }
    },
    {
      "cell_type": "code",
      "source": [
        "context_len = 8\n",
        "def build_dataset(names):\n",
        "  X , Y = [] , []\n",
        "\n",
        "  for name in names[ : 30000]:\n",
        "    context = [0] * context_len\n",
        "    for ch in name + \".\":\n",
        "      ix = str_to_idx[ch]\n",
        "      X.append(context)\n",
        "      Y.append(ix)\n",
        "      context = context[1:] + [ix]\n",
        "\n",
        "  X = tf.convert_to_tensor(X)\n",
        "  Y = tf.convert_to_tensor(Y)\n",
        "  print(X.shape , Y.shape)\n",
        "  return X , Y"
      ],
      "metadata": {
        "id": "SlBALHcFUXpr"
      },
      "execution_count": 10,
      "outputs": []
    },
    {
      "cell_type": "markdown",
      "source": [
        "Spliting the data into traning , validation an test data"
      ],
      "metadata": {
        "id": "f-N606UmzSAM"
      }
    },
    {
      "cell_type": "code",
      "source": [
        "random.seed(42)\n",
        "random.shuffle(names)\n",
        "n1 = int(0.8 * len(names))\n",
        "n2 = int(0.9 * len(names))\n",
        "\n",
        "Xtr , Ytr = build_dataset(names[:n1])\n",
        "Xdev , Ydev = build_dataset(names[n1:n2])\n",
        "Xte , Yte = build_dataset(names[n2:])"
      ],
      "metadata": {
        "colab": {
          "base_uri": "https://localhost:8080/"
        },
        "id": "YM4uf7oqYAnV",
        "outputId": "4652fd05-1b54-448e-ca98-6fff9af90108"
      },
      "execution_count": 11,
      "outputs": [
        {
          "output_type": "stream",
          "name": "stdout",
          "text": [
            "(430149, 8) (430149,)\n",
            "(104753, 8) (104753,)\n",
            "(104419, 8) (104419,)\n"
          ]
        }
      ]
    },
    {
      "cell_type": "markdown",
      "source": [
        "## Multilayer Perceptron\n",
        "\n",
        "- **67 chars to predict**"
      ],
      "metadata": {
        "id": "7MsxXKOhvOgG"
      }
    },
    {
      "cell_type": "markdown",
      "source": [
        "Hyperparameters"
      ],
      "metadata": {
        "id": "2DVPCQLIz0qx"
      }
    },
    {
      "cell_type": "code",
      "source": [
        "n_emb = 45\n",
        "n_neurons_l1 = 300\n",
        "n_neurons_l2 = 250\n",
        "n_neurons = n_neurons_l1 + n_neurons_l2\n",
        "vocab_size = len(idx_to_str) # 67\n",
        "context_len = 8\n",
        "# n_emb(45) * context_len(4) = 180"
      ],
      "metadata": {
        "id": "F8pmcP9VxPHT"
      },
      "execution_count": 12,
      "outputs": []
    },
    {
      "cell_type": "markdown",
      "source": [
        "Trainable parameters"
      ],
      "metadata": {
        "id": "WvYTvZFKzw3x"
      }
    },
    {
      "cell_type": "code",
      "source": [
        "seed = tf.random.set_seed(424242424)\n",
        "initializer = tf.keras.initializers.HeNormal(seed=seed)\n",
        "\n",
        "C = tf.Variable(tf.random.uniform(shape=(vocab_size , n_emb) , seed = seed))\n",
        "\n",
        "W1 = tf.Variable(initializer(shape=(n_emb*context_len , n_neurons_l1)))\n",
        "b1 = tf.Variable(tf.random.uniform(shape=[n_neurons_l1]))\n",
        "\n",
        "W2 = tf.Variable(initializer(shape=(n_neurons_l1 , n_neurons_l2)))\n",
        "b2 = tf.Variable(tf.random.uniform(shape = [n_neurons_l2]))\n",
        "\n",
        "W3 = tf.Variable(initializer(shape=(n_neurons_l2 , vocab_size)))\n",
        "b3 = tf.Variable(tf.random.uniform(shape = [vocab_size]))\n"
      ],
      "metadata": {
        "id": "98J6ZFJ0Ylv0"
      },
      "execution_count": 13,
      "outputs": []
    },
    {
      "cell_type": "markdown",
      "source": [
        "Loss function - categorical cross-entropy"
      ],
      "metadata": {
        "id": "3MWnKJ_cz345"
      }
    },
    {
      "cell_type": "code",
      "source": [
        "loss_fn = tf.keras.losses.SparseCategoricalCrossentropy(from_logits=True)"
      ],
      "metadata": {
        "id": "y_DAfTba74lH"
      },
      "execution_count": 14,
      "outputs": []
    },
    {
      "cell_type": "markdown",
      "source": [
        "**0.2M PARAMETER DNN-MODEL**"
      ],
      "metadata": {
        "id": "L91ExpvN0CFD"
      }
    },
    {
      "cell_type": "code",
      "source": [
        "parameters = [C , W1 , b1 , W2 , b2 , W3 , b3]\n",
        "no_params = 0\n",
        "for p in parameters:\n",
        "  no_params += tf.size(p).numpy()\n",
        "\n",
        "print('Total number of parameters: ', no_params.item())"
      ],
      "metadata": {
        "colab": {
          "base_uri": "https://localhost:8080/"
        },
        "id": "jpnPmAlyzCm6",
        "outputId": "28038c46-9956-472a-f685-a27981e57682"
      },
      "execution_count": 15,
      "outputs": [
        {
          "output_type": "stream",
          "name": "stdout",
          "text": [
            "Total number of parameters:  203382\n"
          ]
        }
      ]
    },
    {
      "cell_type": "markdown",
      "source": [
        "- Initially we want each character to have equal probability i.e; 1/67 .\n",
        "- -tf.math.log(1/67) = 4.20\n",
        "- We got 5.4186 on first epoch . So we have initiallized our weights well.\n",
        "- Also using tanh in such a large dnn might led to saturation of many of the neurons .\n",
        "- Hence we are using gelu. It might me computationally expensive."
      ],
      "metadata": {
        "id": "ZKHgzB23r7hI"
      }
    },
    {
      "cell_type": "markdown",
      "source": [
        "Traning loop of 500 epochs"
      ],
      "metadata": {
        "id": "UP7_jn_f0Ua4"
      }
    },
    {
      "cell_type": "code",
      "source": [
        "num_epochs = 500\n",
        "learning_rate = 0.01\n",
        "losses = []\n",
        "# Instantiate the Adam optimizer\n",
        "optimizer = tf.keras.optimizers.Adam(learning_rate=learning_rate)\n",
        "\n",
        "for epoch in range(num_epochs):\n",
        "    with tf.GradientTape() as tape:\n",
        "        # Forward pass:\n",
        "        emb = tf.gather(C,Xtr) # [batch, block_size, embedding_dim]\n",
        "        h1 = tf.keras.activations.gelu((tf.reshape(emb , shape=(-1 , n_emb*context_len)) @ W1) + b1)\n",
        "        h2 = tf.keras.activations.gelu(h1 @ W2 + b2)\n",
        "        logits = h2 @ W3 + b3\n",
        "        loss = loss_fn(tf.reshape(Ytr, [-1]), logits)\n",
        "\n",
        "\n",
        "    # Compute the gradients with respect to parameters\n",
        "    grads = tape.gradient(loss, parameters)\n",
        "\n",
        "    # Update parameters using the Adam optimizer\n",
        "    optimizer.apply_gradients(zip(grads, parameters))\n",
        "\n",
        "    losses.append(loss.numpy())\n",
        "\n",
        "    if epoch % 25 == 0:\n",
        "      print(f\"epoch={epoch}, loss={loss.numpy():.4f}\")"
      ],
      "metadata": {
        "colab": {
          "base_uri": "https://localhost:8080/"
        },
        "id": "2kTVU2d1zwwH",
        "outputId": "5a608ede-55a3-43a3-a641-626297bb7d53"
      },
      "execution_count": 17,
      "outputs": [
        {
          "output_type": "stream",
          "name": "stdout",
          "text": [
            "epoch=0, loss=5.4186\n",
            "epoch=25, loss=2.5524\n",
            "epoch=50, loss=2.2234\n",
            "epoch=75, loss=2.1361\n",
            "epoch=100, loss=2.0496\n",
            "epoch=125, loss=2.0082\n",
            "epoch=150, loss=1.9662\n",
            "epoch=175, loss=1.9362\n",
            "epoch=200, loss=1.9119\n",
            "epoch=225, loss=1.9021\n",
            "epoch=250, loss=1.8688\n",
            "epoch=275, loss=1.8636\n",
            "epoch=300, loss=1.8418\n",
            "epoch=325, loss=1.8211\n",
            "epoch=350, loss=1.8102\n",
            "epoch=375, loss=1.7925\n",
            "epoch=400, loss=1.7867\n",
            "epoch=425, loss=1.7833\n",
            "epoch=450, loss=1.7632\n",
            "epoch=475, loss=1.7479\n"
          ]
        }
      ]
    },
    {
      "cell_type": "code",
      "source": [
        "plt.plot(losses)\n",
        "plt.title('Loss vs. Epoch', fontsize=16)\n",
        "plt.grid(True)\n",
        "plt.show()"
      ],
      "metadata": {
        "colab": {
          "base_uri": "https://localhost:8080/",
          "height": 454
        },
        "id": "lqcxMlg8BKzM",
        "outputId": "63fae28f-a1f6-45f9-e14b-fa0ee9841c1f"
      },
      "execution_count": 24,
      "outputs": [
        {
          "output_type": "display_data",
          "data": {
            "text/plain": [
              "<Figure size 640x480 with 1 Axes>"
            ],
            "image/png": "[encoded data removed]"
          },
          "metadata": {}
        }
      ]
    },
    {
      "cell_type": "markdown",
      "source": [
        "Traning loss"
      ],
      "metadata": {
        "id": "ZbJl-L8D1CWe"
      }
    },
    {
      "cell_type": "code",
      "source": [
        "print(\"Traning loss: \",losses[-1].item())"
      ],
      "metadata": {
        "colab": {
          "base_uri": "https://localhost:8080/"
        },
        "id": "E9BSPSjrE4LY",
        "outputId": "76df8a6a-5464-4737-eca9-132e9b981c34"
      },
      "execution_count": 27,
      "outputs": [
        {
          "output_type": "stream",
          "name": "stdout",
          "text": [
            "Traning loss:  1.756134033203125\n"
          ]
        }
      ]
    },
    {
      "cell_type": "markdown",
      "source": [
        "Validation loss"
      ],
      "metadata": {
        "id": "_tJswovN1DX3"
      }
    },
    {
      "cell_type": "code",
      "source": [
        "emb = tf.gather(C,Xdev) # [batch, block_size, embedding_dim]\n",
        "h1 = tf.keras.activations.gelu((tf.reshape(emb , shape=(-1 , n_emb*context_len)) @ W1) + b1)\n",
        "h2 = tf.keras.activations.gelu(h1 @ W2 + b2)\n",
        "logits = h2 @ W3 + b3\n",
        "loss = loss_fn(tf.reshape(Ydev, [-1]), logits)\n",
        "print(\"Validation loss: \",loss.numpy().item())"
      ],
      "metadata": {
        "colab": {
          "base_uri": "https://localhost:8080/"
        },
        "id": "44S6riWLEppE",
        "outputId": "f8ba88c9-8a04-4737-ea2b-e5c2d6edcb34"
      },
      "execution_count": 28,
      "outputs": [
        {
          "output_type": "stream",
          "name": "stdout",
          "text": [
            "Validation loss:  1.818256139755249\n"
          ]
        }
      ]
    },
    {
      "cell_type": "markdown",
      "source": [
        "Sampling newly generated names"
      ],
      "metadata": {
        "id": "Ft2yHJTQ1IxH"
      }
    },
    {
      "cell_type": "code",
      "source": [
        "block_size = 8\n",
        "for _ in range(20):\n",
        "\n",
        "    out = []\n",
        "    context = [0] * block_size # initialize with all ...\n",
        "    while True:\n",
        "      emb = tf.gather(C , tf.constant([context] , dtype=tf.int32)) # (1,block_size,d)\n",
        "      emb_flat = tf.reshape(emb, [1, -1])\n",
        "      h1 = tf.keras.activations.gelu(tf.matmul(emb_flat, W1) + b1)\n",
        "      h2 = tf.keras.activations.gelu(tf.matmul(h1, W2) + b2)\n",
        "      logits = tf.matmul(h2, W3) + b3 # (B,block_size,vocab_size)\n",
        "      probs = tf.nn.softmax(logits, axis=1)\n",
        "      ix = tf.random.categorical(tf.math.log(probs), num_samples=1)[0, 0].numpy()\n",
        "      context = context[1:] + [ix]\n",
        "      out.append(ix)\n",
        "      if ix == 0:\n",
        "        break\n",
        "\n",
        "    print(''.join(idx_to_str[i] for i in out))"
      ],
      "metadata": {
        "colab": {
          "base_uri": "https://localhost:8080/"
        },
        "id": "etVMLugJBQ6a",
        "outputId": "17b72978-b057-4c03-8214-fdb76eaf0c2f"
      },
      "execution_count": 29,
      "outputs": [
        {
          "output_type": "stream",
          "name": "stdout",
          "text": [
            "Wakanekatsurya.\n",
            "Minami_Chinamine.\n",
            "Shuuka_Shizaki.\n",
            "Sakir-Poc_Erens.\n",
            "Milly_Lelinwaho.\n",
            "Fujima_Yamino.\n",
            "Gitzumi_Joumonji.\n",
            "Yura_Roura.\n",
            "Hikuko_Mura.\n",
            "Nanami_Sawamura.\n",
            "Kotouhon_Shimarumi.\n",
            "Shizuku_Yuuki.\n",
            "Kazue_Horoshi.\n",
            "Nanhei_Seioku.\n",
            "Min_Misumoto.\n",
            "Fudone_Arogawa.\n",
            "Nallyan.\n",
            "Matsune_Flarsere.\n",
            "Mashou_Narasegu.\n",
            "Geiki_Shizuha.\n"
          ]
        }
      ]
    },
    {
      "cell_type": "markdown",
      "source": [
        "Saving the trained weights"
      ],
      "metadata": {
        "id": "KBxg2zAOyTrc"
      }
    },
    {
      "cell_type": "code",
      "source": [
        "checkpoint = tf.train.Checkpoint(\n",
        "    C = C , W1 = W1 , b1 = b1 , W2 = W2 , b2 = b2 , W3 = W3 , b3 = b3\n",
        ")\n",
        "\n",
        "save_path = checkpoint.save(\"./checkpoints/anime_model\")\n",
        "print(f\"Model saved at: {save_path}\")"
      ],
      "metadata": {
        "colab": {
          "base_uri": "https://localhost:8080/"
        },
        "id": "xVvxfn_Twwyx",
        "outputId": "e1c9b31e-79a0-4e38-a0f1-e5434091aa40"
      },
      "execution_count": 22,
      "outputs": [
        {
          "output_type": "stream",
          "name": "stdout",
          "text": [
            "Model saved at: ./checkpoints/anime_model-1\n"
          ]
        }
      ]
    },
    {
      "cell_type": "markdown",
      "source": [
        "For restoring the saved weights"
      ],
      "metadata": {
        "id": "q5fis4c6yKtk"
      }
    },
    {
      "cell_type": "code",
      "source": [
        "# checkpoint = tf.train.Checkpoint(\n",
        "#     C=C, W1=W1, b1=b1, W2=W2, b2=b2, W3=W3, b3=b3\n",
        "# )\n",
        "\n",
        "# checkpoint.restore(tf.train.latest_checkpoint(\"./checkpoints\")).expect_partial()\n",
        "# print(\"Model restored from latest checkpoint!\")"
      ],
      "metadata": {
        "id": "txu3krQ5xxip"
      },
      "execution_count": 30,
      "outputs": []
    }
  ]
}