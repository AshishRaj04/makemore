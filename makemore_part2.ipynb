{
  "nbformat": 4,
  "nbformat_minor": 0,
  "metadata": {
    "colab": {
      "provenance": [],
      "gpuType": "T4",
      "mount_file_id": "1tvTDDMuGE7cIe2MUA7qGqOE0XSnCKSt2",
      "authorship_tag": "ABX9TyPYRFCQUeOQIsb7eEiE0cKr",
      "include_colab_link": true
    },
    "kernelspec": {
      "name": "python3",
      "display_name": "Python 3"
    },
    "language_info": {
      "name": "python"
    },
    "accelerator": "GPU"
  },
  "cells": [
    {
      "cell_type": "markdown",
      "metadata": {
        "id": "view-in-github",
        "colab_type": "text"
      },
      "source": [
        "<a href=\"https://colab.research.google.com/github/AshishRaj04/makemore/blob/main/makemore_part2.ipynb\" target=\"_parent\"><img src=\"https://colab.research.google.com/assets/colab-badge.svg\" alt=\"Open In Colab\"/></a>"
      ]
    },
    {
      "cell_type": "markdown",
      "source": [
        "**Problems**\n",
        "- last time we only had one character of context , i.e; 2D space\n",
        "- the prediction was not so good because of only one character of context.\n",
        "- if we take 3 character of context (3D-space) the number of possible probabilities grow exponentially 27x27x27.\n",
        "- Curse of dimensionality\n",
        "\n",
        "**Solution**\n",
        "- Modeling approach : *[Bengio et al. 2003 MLP language model paper](https://www.jmlr.org/papers/volume3/bengio03a/bengio03a.pdf)*\n",
        "- vocab: 17000 , association each word in vocab in a let's say 30 dim space as feature vectors . They were initiallized randomly . Then tuned using backpropagation , so that words having similar meaning goes to similar space.\n",
        "- Through the embedding space you can transfer knowledge that both 'cat' and 'dog' are followed by 'is'."
      ],
      "metadata": {
        "id": "pp7hhc6OdMZM"
      }
    },
    {
      "cell_type": "code",
      "source": [
        "from pathlib import Path\n",
        "import tensorflow as tf\n",
        "import matplotlib.pyplot as plt\n",
        "%matplotlib inline"
      ],
      "metadata": {
        "id": "I71fDCT3hYNt"
      },
      "execution_count": 1,
      "outputs": []
    },
    {
      "cell_type": "code",
      "execution_count": 3,
      "metadata": {
        "id": "2Ok3C1RQajFt"
      },
      "outputs": [],
      "source": [
        "# code to save the figures and plots\n",
        "\n",
        "IMAGES_PATH = Path() / \"results\"\n",
        "IMAGES_PATH.mkdir(parents=True, exist_ok=True)\n",
        "\n",
        "def save_fig(fig_id, tight_layout=True, fig_extension=\"png\", resolution=300):\n",
        "  path = IMAGES_PATH / f\"{fig_id}.{fig_extension}\"\n",
        "  if tight_layout:\n",
        "    plt.tight_layout()\n",
        "  plt.savefig(path, format=fig_extension, dpi=resolution)"
      ]
    },
    {
      "cell_type": "code",
      "source": [
        "seed = tf.random.set_seed(4224444)"
      ],
      "metadata": {
        "id": "g0s7YnFQzkMf"
      },
      "execution_count": 70,
      "outputs": []
    },
    {
      "cell_type": "code",
      "source": [
        "data_path = \"/content/drive/MyDrive/Projects/ building makemore part 1/names.txt\""
      ],
      "metadata": {
        "id": "wHvxVCFEiWdN"
      },
      "execution_count": 4,
      "outputs": []
    },
    {
      "cell_type": "code",
      "source": [
        "with open(data_path, 'r') as f:\n",
        "  names = f.read().splitlines()"
      ],
      "metadata": {
        "id": "k25D1n9DiaOo"
      },
      "execution_count": 5,
      "outputs": []
    },
    {
      "cell_type": "code",
      "source": [
        "len(names)"
      ],
      "metadata": {
        "colab": {
          "base_uri": "https://localhost:8080/"
        },
        "id": "KXAisy34iplB",
        "outputId": "a33a6c80-2405-4779-868f-f1ed2f584aed"
      },
      "execution_count": 7,
      "outputs": [
        {
          "output_type": "execute_result",
          "data": {
            "text/plain": [
              "32033"
            ]
          },
          "metadata": {},
          "execution_count": 7
        }
      ]
    },
    {
      "cell_type": "code",
      "source": [
        "chars = sorted(list(set(\"\".join(names))))\n",
        "str_to_idx = {s : i+1 for i,s in enumerate(chars)}\n",
        "str_to_idx['.'] = 0\n",
        "idx_to_str = {i:s for s,i in str_to_idx.items()}"
      ],
      "metadata": {
        "id": "RWJGZN4kirNK"
      },
      "execution_count": 12,
      "outputs": []
    },
    {
      "cell_type": "code",
      "source": [
        "print(idx_to_str)"
      ],
      "metadata": {
        "colab": {
          "base_uri": "https://localhost:8080/"
        },
        "id": "bXjSEjWli3ib",
        "outputId": "43605ad9-9915-422c-808c-a3e8bdd895c3"
      },
      "execution_count": 20,
      "outputs": [
        {
          "output_type": "stream",
          "name": "stdout",
          "text": [
            "{1: 'a', 2: 'b', 3: 'c', 4: 'd', 5: 'e', 6: 'f', 7: 'g', 8: 'h', 9: 'i', 10: 'j', 11: 'k', 12: 'l', 13: 'm', 14: 'n', 15: 'o', 16: 'p', 17: 'q', 18: 'r', 19: 's', 20: 't', 21: 'u', 22: 'v', 23: 'w', 24: 'x', 25: 'y', 26: 'z', 0: '.'}\n"
          ]
        }
      ]
    },
    {
      "cell_type": "code",
      "source": [
        "block_size = 4 # size of the context length : how many character do we take to predict the next one ?\n",
        "\n",
        "X , Y = [] , []\n",
        "\n",
        "for name in names[ : 4]:\n",
        "  print(name)\n",
        "  context = [0] * block_size\n",
        "  for ch in name + '.':\n",
        "    ix = str_to_idx[ch]\n",
        "    X.append(context)\n",
        "    Y.append(ix)\n",
        "    print(''.join(idx_to_str[i] for i in context), '--->', ch)\n",
        "    context = context[1:] + [ix]\n"
      ],
      "metadata": {
        "colab": {
          "base_uri": "https://localhost:8080/"
        },
        "id": "NHC9UuXijRSE",
        "outputId": "819a3dcb-3f15-4b67-fe05-18ba5b2a38c2"
      },
      "execution_count": 27,
      "outputs": [
        {
          "output_type": "stream",
          "name": "stdout",
          "text": [
            "emma\n",
            ".... ---> e\n",
            "...e ---> m\n",
            "..em ---> m\n",
            ".emm ---> a\n",
            "emma ---> .\n",
            "olivia\n",
            ".... ---> o\n",
            "...o ---> l\n",
            "..ol ---> i\n",
            ".oli ---> v\n",
            "oliv ---> i\n",
            "livi ---> a\n",
            "ivia ---> .\n",
            "ava\n",
            ".... ---> a\n",
            "...a ---> v\n",
            "..av ---> a\n",
            ".ava ---> .\n",
            "isabella\n",
            ".... ---> i\n",
            "...i ---> s\n",
            "..is ---> a\n",
            ".isa ---> b\n",
            "isab ---> e\n",
            "sabe ---> l\n",
            "abel ---> l\n",
            "bell ---> a\n",
            "ella ---> .\n"
          ]
        }
      ]
    },
    {
      "cell_type": "code",
      "source": [
        "X = tf.Variable(tf.convert_to_tensor(X))\n",
        "Y = tf.Variable(tf.convert_to_tensor(Y))"
      ],
      "metadata": {
        "id": "the02s3yn8P9"
      },
      "execution_count": 28,
      "outputs": []
    },
    {
      "cell_type": "code",
      "source": [
        "X , Y"
      ],
      "metadata": {
        "colab": {
          "base_uri": "https://localhost:8080/"
        },
        "id": "iHzPORcNowok",
        "outputId": "3d671b24-4450-41de-8265-04ee76308086"
      },
      "execution_count": 60,
      "outputs": [
        {
          "output_type": "execute_result",
          "data": {
            "text/plain": [
              "(<tf.Variable 'Variable:0' shape=(25, 4) dtype=int32, numpy=\n",
              " array([[ 0,  0,  0,  0],\n",
              "        [ 0,  0,  0,  5],\n",
              "        [ 0,  0,  5, 13],\n",
              "        [ 0,  5, 13, 13],\n",
              "        [ 5, 13, 13,  1],\n",
              "        [ 0,  0,  0,  0],\n",
              "        [ 0,  0,  0, 15],\n",
              "        [ 0,  0, 15, 12],\n",
              "        [ 0, 15, 12,  9],\n",
              "        [15, 12,  9, 22],\n",
              "        [12,  9, 22,  9],\n",
              "        [ 9, 22,  9,  1],\n",
              "        [ 0,  0,  0,  0],\n",
              "        [ 0,  0,  0,  1],\n",
              "        [ 0,  0,  1, 22],\n",
              "        [ 0,  1, 22,  1],\n",
              "        [ 0,  0,  0,  0],\n",
              "        [ 0,  0,  0,  9],\n",
              "        [ 0,  0,  9, 19],\n",
              "        [ 0,  9, 19,  1],\n",
              "        [ 9, 19,  1,  2],\n",
              "        [19,  1,  2,  5],\n",
              "        [ 1,  2,  5, 12],\n",
              "        [ 2,  5, 12, 12],\n",
              "        [ 5, 12, 12,  1]], dtype=int32)>,\n",
              " <tf.Variable 'Variable:0' shape=(25,) dtype=int32, numpy=\n",
              " array([ 5, 13, 13,  1,  0, 15, 12,  9, 22,  9,  1,  0,  1, 22,  1,  0,  9,\n",
              "        19,  1,  2,  5, 12, 12,  1,  0], dtype=int32)>)"
            ]
          },
          "metadata": {},
          "execution_count": 60
        }
      ]
    },
    {
      "cell_type": "code",
      "source": [
        "C = tf.random.uniform(shape=(27 , 2) , seed=seed)"
      ],
      "metadata": {
        "id": "VmL-4GAYoxid"
      },
      "execution_count": 71,
      "outputs": []
    },
    {
      "cell_type": "code",
      "source": [
        "emb = tf.gather(C, X)\n",
        "print(emb.shape)"
      ],
      "metadata": {
        "colab": {
          "base_uri": "https://localhost:8080/"
        },
        "id": "Ywuuk4B0rjQr",
        "outputId": "937f5b42-ba07-4444-a812-fb2cbd198e27"
      },
      "execution_count": 72,
      "outputs": [
        {
          "output_type": "stream",
          "name": "stdout",
          "text": [
            "(25, 4, 2)\n"
          ]
        }
      ]
    },
    {
      "cell_type": "code",
      "source": [
        "initializer = tf.keras.initializers.GlorotNormal(seed=seed)\n",
        "W1 = tf.Variable(initializer(shape=(8 , 150)), name=\"W\")\n",
        "b1 = tf.Variable(tf.random.uniform(shape = [150]), name=\"b\")"
      ],
      "metadata": {
        "id": "bf4ER0jczQNK"
      },
      "execution_count": 91,
      "outputs": []
    },
    {
      "cell_type": "code",
      "source": [
        "# tf.concat([emb[ : , 0 , :] , emb[ : , 1 , :] ,  emb[ : , 2 , :] ,  emb[ : , 3 , :]] , axis = 1 ).shape\n",
        "# tf.concat(tf.unstack(emb , axis=1) , axis = 1).shape\n",
        "# tf.reshape(emb , shape=(25,8)).shape"
      ],
      "metadata": {
        "id": "nU7JbvLpxgNp"
      },
      "execution_count": 88,
      "outputs": []
    },
    {
      "cell_type": "code",
      "source": [
        "h = tf.math.tanh((tf.reshape(emb , shape=(-1 , 8)) @ W1) + b1)\n",
        "h.shape"
      ],
      "metadata": {
        "colab": {
          "base_uri": "https://localhost:8080/"
        },
        "id": "MmRkFHTA3G1l",
        "outputId": "8642235f-068c-4bf6-adea-a211ad369de3"
      },
      "execution_count": 95,
      "outputs": [
        {
          "output_type": "execute_result",
          "data": {
            "text/plain": [
              "TensorShape([25, 150])"
            ]
          },
          "metadata": {},
          "execution_count": 95
        }
      ]
    },
    {
      "cell_type": "code",
      "source": [
        "W2 = tf.Variable(initializer(shape=(150 , 27)), name=\"W\")\n",
        "b2 = tf.Variable(tf.random.uniform(shape = [27]), name=\"b\")"
      ],
      "metadata": {
        "id": "bZacvAsm36ua"
      },
      "execution_count": 96,
      "outputs": []
    },
    {
      "cell_type": "code",
      "source": [
        "logits = h @ W2 + b2"
      ],
      "metadata": {
        "id": "LnbNTr_q37P1"
      },
      "execution_count": 97,
      "outputs": []
    },
    {
      "cell_type": "code",
      "source": [
        "probs = tf.nn.softmax(logits)"
      ],
      "metadata": {
        "id": "biCCZGII6LVF"
      },
      "execution_count": 98,
      "outputs": []
    },
    {
      "cell_type": "code",
      "source": [
        "probs.shape"
      ],
      "metadata": {
        "colab": {
          "base_uri": "https://localhost:8080/"
        },
        "id": "-n1G_1HRAiGq",
        "outputId": "f5beb17c-0538-4771-f7a8-8d5c9f588a3e"
      },
      "execution_count": 104,
      "outputs": [
        {
          "output_type": "execute_result",
          "data": {
            "text/plain": [
              "TensorShape([25, 27])"
            ]
          },
          "metadata": {},
          "execution_count": 104
        }
      ]
    },
    {
      "cell_type": "code",
      "source": [
        "indices = tf.stack([tf.range(25) , Y] , axis = 1)\n",
        "selected_values = tf.gather_nd(probs, indices)"
      ],
      "metadata": {
        "id": "J2f3z8McAStF"
      },
      "execution_count": 111,
      "outputs": []
    },
    {
      "cell_type": "code",
      "source": [
        "selected_values"
      ],
      "metadata": {
        "colab": {
          "base_uri": "https://localhost:8080/"
        },
        "id": "bdq9PaAjDyWM",
        "outputId": "9211e0f0-1ce8-4d68-a626-80ccc60ea56b"
      },
      "execution_count": 117,
      "outputs": [
        {
          "output_type": "execute_result",
          "data": {
            "text/plain": [
              "<tf.Tensor: shape=(25,), dtype=float32, numpy=\n",
              "array([0.08537394, 0.05423288, 0.04825666, 0.02803783, 0.03790171,\n",
              "       0.04744231, 0.01827743, 0.0477417 , 0.02758976, 0.04689925,\n",
              "       0.0279735 , 0.04164616, 0.0289016 , 0.02776553, 0.03048536,\n",
              "       0.03651508, 0.04828609, 0.03034173, 0.02930733, 0.02002741,\n",
              "       0.0690489 , 0.02102985, 0.01991677, 0.02822208, 0.03596804],\n",
              "      dtype=float32)>"
            ]
          },
          "metadata": {},
          "execution_count": 117
        }
      ]
    },
    {
      "cell_type": "code",
      "source": [
        "tf.reduce_mean(-tf.math.log(selected_values))"
      ],
      "metadata": {
        "colab": {
          "base_uri": "https://localhost:8080/"
        },
        "id": "Z1pcZw0wBLoN",
        "outputId": "68670f7c-3771-48bf-f8cb-44f5273e06ca"
      },
      "execution_count": 114,
      "outputs": [
        {
          "output_type": "execute_result",
          "data": {
            "text/plain": [
              "<tf.Tensor: shape=(), dtype=float32, numpy=3.359569787979126>"
            ]
          },
          "metadata": {},
          "execution_count": 114
        }
      ]
    },
    {
      "cell_type": "code",
      "source": [],
      "metadata": {
        "id": "f5wIV0hEDnUW"
      },
      "execution_count": null,
      "outputs": []
    }
  ]
}